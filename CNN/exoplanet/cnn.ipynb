{
 "cells": [
  {
   "cell_type": "markdown",
   "metadata": {},
   "source": [
    "# Exoplanet Vetting with Convolutional Neural Networks\n",
    "\n",
    "Input data include:\n",
    "- \"Local\" view light curve time profile (61 time bins), all 3 aperture depth channels: $X_{\\rm local}$, with dimension $n\\times 3\\times 61$\n",
    "- \"Global\" view light curve time profile: $X_{\\rm global}$, with dimension $n\\times 3 \\times 201$\n",
    "- Depths from local and global light curves, all apertures: $X_{\\rm depths}$, with dimension $n\\times 6$\n",
    "\n",
    "Labels y has dimension $n$, each label is either 0 (non-planet) or 1 (planet)"
   ]
  },
  {
   "cell_type": "code",
   "execution_count": 1,
   "metadata": {},
   "outputs": [],
   "source": [
    "import os\n",
    "import numpy as np\n",
    "import h5py\n",
    "from matplotlib import pyplot as plt\n",
    "import pickle\n",
    "\n",
    "import torch\n",
    "from torch import nn\n",
    "from torch.nn import (Linear, ReLU, Conv1d, Flatten, Conv2d, Sequential,MaxPool1d, MaxPool2d, Dropout, CrossEntropyLoss)\n",
    "from torch.optim import Adam\n",
    "from torch.utils.data import DataLoader, TensorDataset\n",
    "\n",
    "from skimage.io import imread, imshow\n",
    "from skimage.transform import resize\n",
    "\n",
    "import sklearn\n",
    "import sklearn.metrics"
   ]
  },
  {
   "cell_type": "markdown",
   "metadata": {},
   "source": [
    "Define a function to read some pickled data into numpy array"
   ]
  },
  {
   "cell_type": "code",
   "execution_count": 2,
   "metadata": {},
   "outputs": [],
   "source": [
    "def read_pickle(filepath):\n",
    "    \n",
    "    assert os.path.exists(filepath)\n",
    "    f = pickle.load(open(filepath,'rb'))    \n",
    "    \n",
    "    nfiles = len(f)\n",
    "    depths = np.zeros((nfiles,6))\n",
    "    localviews = np.zeros((nfiles,3,61))\n",
    "    globalviews = np.zeros((nfiles,3,201))\n",
    "    labels = np.zeros((nfiles,))\n",
    "    \n",
    "    for i,file in enumerate(f):\n",
    "        \n",
    "        depths[i] = np.hstack([file['LocalDepths'],file['GlobalDepths']])\n",
    "        localviews[i] = file['LocalView']\n",
    "        globalviews[i] = file['GlobalView']\n",
    "        labels[i] = file['label']\n",
    "        \n",
    "        localviews[i] /= np.amin(depths[i,[1]], axis = -1,keepdims=True)\n",
    "        globalviews[i] /= np.amin(depths[i,[4]], axis = -1,keepdims=True)\n",
    "        \n",
    "    return depths,localviews,globalviews,labels"
   ]
  },
  {
   "cell_type": "markdown",
   "metadata": {},
   "source": [
    "Load data $X_{\\rm local},X_{\\rm global},X_{\\rm depths},y$, which contain combined data across multiple sectors. "
   ]
  },
  {
   "cell_type": "code",
   "execution_count": 3,
   "metadata": {},
   "outputs": [
    {
     "name": "stdout",
     "output_type": "stream",
     "text": [
      "X_global.shape =  (184005, 3, 201)\n",
      "X_local.shape  =  (184005, 3, 61)\n",
      "X_depths.shape =  (184005, 6)\n",
      "y.shape        =  (184005,)\n"
     ]
    }
   ],
   "source": [
    "verbose = 1\n",
    "pickle_dir = \"/Users/hblim/Dropbox (MIT)/qlp-data/2020_04_27_updatedData/LCpickels/\"\n",
    "\n",
    "all_depths = np.zeros((0,6))\n",
    "all_localviews = np.zeros((0,3,61))\n",
    "all_globalviews = np.zeros((0,3,201))\n",
    "all_labels = np.zeros((0,))\n",
    "\n",
    "# append with data from each sector\n",
    "for sector in range(1,23):\n",
    "    \n",
    "    filepath = pickle_dir + 'sector-{}.pickle'.format(sector)\n",
    "    depths,localviews,globalviews,labels = read_pickle(filepath)\n",
    "    \n",
    "    all_depths = np.append(all_depths, depths,axis=0)\n",
    "    all_localviews = np.append(all_localviews, localviews,axis=0)\n",
    "    all_globalviews = np.append(all_globalviews, globalviews,axis=0)\n",
    "    all_labels = np.append(all_labels,labels)\n",
    "\n",
    "if verbose:\n",
    "    print(\"X_global.shape = \", all_globalviews.shape)\n",
    "    print(\"X_local.shape  = \", all_localviews.shape)\n",
    "    print(\"X_depths.shape = \", all_depths.shape)\n",
    "    print(\"y.shape        = \", all_labels.shape)"
   ]
  },
  {
   "cell_type": "markdown",
   "metadata": {},
   "source": [
    "Visualize the data"
   ]
  },
  {
   "cell_type": "code",
   "execution_count": 4,
   "metadata": {},
   "outputs": [
    {
     "data": {
      "text/plain": [
       "(202,\n",
       " [[<matplotlib.lines.Line2D at 0x1a1f704490>],\n",
       "  [<matplotlib.lines.Line2D at 0x1023f6a50>],\n",
       "  [<matplotlib.lines.Line2D at 0x103017950>]],\n",
       " 1.0)"
      ]
     },
     "execution_count": 4,
     "metadata": {},
     "output_type": "execute_result"
    },
    {
     "data": {
      "image/png": "[encoded data removed]",
      "text/plain": [
       "<Figure size 432x288 with 1 Axes>"
      ]
     },
     "metadata": {
      "needs_background": "light"
     },
     "output_type": "display_data"
    }
   ],
   "source": [
    "i = np.arange(len(all_labels))[all_labels == 1][11]\n",
    "i, [plt.plot(all_globalviews[i][j]) for j in range(3)], all_labels[i]"
   ]
  },
  {
   "cell_type": "markdown",
   "metadata": {},
   "source": [
    "Combine data into single flattened input array \n",
    "$X = \\lbrace X_{\\rm local},X_{\\rm global},X_{\\rm depths} \\rbrace$\n",
    "\n",
    "Also convert class labels {0 and 1} to {-1 and 1}"
   ]
  },
  {
   "cell_type": "code",
   "execution_count": 5,
   "metadata": {},
   "outputs": [
    {
     "name": "stdout",
     "output_type": "stream",
     "text": [
      "X.shape =  (184005, 792)\n"
     ]
    }
   ],
   "source": [
    "verbose = 1\n",
    "ntotal = len(all_labels)\n",
    "X = np.zeros((ntotal,0))\n",
    "X = np.append(X, all_localviews.reshape((ntotal,3*61)),axis=1)\n",
    "X = np.append(X, all_globalviews.reshape((ntotal,3*201)),axis=1)\n",
    "X = np.append(X, all_depths.reshape((ntotal,6)),axis=1)\n",
    "\n",
    "y = np.array(0.5 + all_labels / 2, dtype=int)\n",
    "if verbose: print(\"X.shape = \", X.shape)"
   ]
  },
  {
   "cell_type": "markdown",
   "metadata": {},
   "source": [
    "Function to break data into training and testing data"
   ]
  },
  {
   "cell_type": "code",
   "execution_count": 80,
   "metadata": {
    "hide_input": false
   },
   "outputs": [],
   "source": [
    "from sklearn.model_selection import StratifiedKFold\n",
    "\n",
    "def split_data(X,y,n_fold):\n",
    "\n",
    "    skf = StratifiedKFold(n_splits=5,shuffle=True)\n",
    "\n",
    "    # currently only using the first fold\n",
    "    train_i, test_i = next(skf.split(X, y))\n",
    "    \n",
    "    Xtrain, ytrain = (X[train_i,:],y[train_i])\n",
    "    Xtest, ytest = (X[test_i,:],y[test_i])\n",
    "\n",
    "    return (Xtrain, ytrain), (Xtest, ytest)"
   ]
  },
  {
   "cell_type": "markdown",
   "metadata": {},
   "source": [
    "To design architecture, helper script to calculate output dimensions given input dimension"
   ]
  },
  {
   "cell_type": "code",
   "execution_count": 74,
   "metadata": {},
   "outputs": [
    {
     "data": {
      "text/plain": [
       "42.0"
      ]
     },
     "execution_count": 74,
     "metadata": {},
     "output_type": "execute_result"
    }
   ],
   "source": [
    "padding=0\n",
    "dilation=1\n",
    "kernel_size=5\n",
    "stride=2\n",
    "\n",
    "Lin = 87\n",
    "Lout = np.floor((1/stride) * (Lin + 2 * padding - dilation * (kernel_size-1) - 1) + 1)\n",
    "Lout"
   ]
  },
  {
   "cell_type": "markdown",
   "metadata": {},
   "source": [
    "Define Model architecture"
   ]
  },
  {
   "cell_type": "code",
   "execution_count": 81,
   "metadata": {},
   "outputs": [],
   "source": [
    "class TriInput_Module(nn.Module):\n",
    "    \n",
    "    def __init__(self):\n",
    "        super(TriInput_Module, self).__init__()\n",
    "        \n",
    "        # [1] local view input\n",
    "        self.Local_ModuleList = nn.ModuleList([\n",
    "            # (C_in, L_in) = (3, 61), \n",
    "            nn.Conv1d(in_channels=3, out_channels=16, kernel_size=5),\n",
    "            # (C_in, L_in) = (16, 57)\n",
    "            nn.Conv1d(in_channels=16, out_channels=16, kernel_size=5),\n",
    "            # (C_in, L_in) = (16, 53), (C_out, L_out) = (16, 24)\n",
    "            nn.MaxPool1d(kernel_size=7,stride=2)])\n",
    "        \n",
    "        # [2] global view input\n",
    "        self.Global_ModuleList = nn.ModuleList([\n",
    "            # (C_in, L_in) = (3, 201), \n",
    "            nn.Conv1d(in_channels=3, out_channels=16, kernel_size=5),\n",
    "            # (C_in, L_in) = (16, 197)\n",
    "            nn.Conv1d(in_channels=16, out_channels=16, kernel_size=5),\n",
    "            # (C_in, L_in) = (16, 193), \n",
    "            nn.MaxPool1d(kernel_size=5,stride=2),\n",
    "            # (C_out, L_out) = (16, 95), \n",
    "            nn.Conv1d(in_channels=16, out_channels=32, kernel_size=5),\n",
    "            # (C_out, L_out) = (32, 91), \n",
    "            nn.Conv1d(in_channels=32, out_channels=32, kernel_size=5),\n",
    "            # (C_out, L_out) = (32, 87),(32, 42), \n",
    "            nn.MaxPool1d(kernel_size=5,stride=2)])\n",
    "        \n",
    "        # [1] + [2] + [3] combined layers\n",
    "        self.Combined_ModuleList = nn.ModuleList([\n",
    "            nn.Linear(in_features = (32 * 42 + 16 * 24 + 6), out_features=256),\n",
    "            nn.Linear(in_features = 256, out_features=256),\n",
    "            nn.Linear(in_features = 256, out_features=2)])\n",
    "        \n",
    "    def forward(self, X):\n",
    "        X = X.float()\n",
    "        (N, D) = X.size()\n",
    "        (Dlocal,Dglobal) = (3 * 61, 3 * 201)\n",
    "        \n",
    "        # Exract X -> (Xlocal,Xglobal,Xdepths)\n",
    "        Xlocal = X[:,0:Dlocal].view(N,3,61)\n",
    "        Xglobal = X[:,Dlocal:Dlocal+Dglobal].view(N,3,201)\n",
    "        Xdepths = X[:,Dlocal+Dglobal:].view(N,6)\n",
    "        \n",
    "        # Process Xlocal\n",
    "        for l in self.Local_ModuleList:\n",
    "            Xlocal = l(Xlocal.float())\n",
    "\n",
    "        # Process Xglobal\n",
    "        for l in self.Global_ModuleList:\n",
    "            Xglobal = l(Xglobal.float())\n",
    "        \n",
    "        # Combine with depths \n",
    "        X = torch.cat((Xlocal.view(N,16 * 24), \n",
    "                       Xglobal.view(N,32*42),\n",
    "                       Xdepths), 1)\n",
    "        \n",
    "        # Process X\n",
    "        for l in self.Combined_ModuleList:\n",
    "            X = l(X.float())\n",
    "\n",
    "        return X.float()"
   ]
  },
  {
   "cell_type": "markdown",
   "metadata": {},
   "source": [
    "Implement training of model"
   ]
  },
  {
   "cell_type": "code",
   "execution_count": 98,
   "metadata": {},
   "outputs": [],
   "source": [
    "from sklearn.utils.class_weight import compute_class_weight\n",
    "\n",
    "def make_deterministic():\n",
    "    torch.manual_seed(10)\n",
    "    torch.backends.cudnn.deterministic = True\n",
    "    torch.backends.cudnn.benchmark = False\n",
    "    np.random.seed(10)\n",
    "\n",
    "def weight_reset(l):\n",
    "    if isinstance(l, Conv2d) or isinstance(l, Linear):\n",
    "        l.reset_parameters()\n",
    "\n",
    "def make_iter(X, y, batch_size=1):\n",
    "    X, y = torch.from_numpy(X), torch.from_numpy(y)\n",
    "    return DataLoader(TensorDataset(X, y), batch_size=batch_size)\n",
    "\n",
    "def run_pytorch(train, test, epochs, verbose=True):\n",
    "    \n",
    "    make_deterministic()\n",
    "        \n",
    "    (X_train, y1), (X_val, y2) = train, test\n",
    "\n",
    "    # Imbalanced Classes Weights\n",
    "    weights = torch.FloatTensor(np.array([.5,50]))\n",
    "    \n",
    "    # Make Dataset Iterables\n",
    "    train_iter = make_iter(X_train, y1, batch_size=32)\n",
    "    val_iter = make_iter(X_val, y2, batch_size=32)\n",
    "    \n",
    "    # Model specification\n",
    "    model = TriInput_Module()\n",
    "\n",
    "    # Define the optimization\n",
    "    optimizer = Adam(model.parameters())\n",
    "    criterion = CrossEntropyLoss(weight=weights)\n",
    "\n",
    "    # Fit the model\n",
    "    train_m, vali_m = model_fit(model, train_iter, epochs=epochs, \n",
    "                                optimizer=optimizer, criterion=criterion,\n",
    "                                validation_iter=val_iter,\n",
    "                                verbose=verbose,history=None)\n",
    "\n",
    "    (train_loss, train_acc) = train_m\n",
    "    (vali_loss, val_acc) = vali_m\n",
    "    \n",
    "    predict = model(torch.FloatTensor(X_val)).data.numpy()\n",
    "\n",
    "    return sklearn.metrics.precision_recall_curve(y2, np.amax(predict,axis=1) , pos_label=1)"
   ]
  },
  {
   "cell_type": "markdown",
   "metadata": {},
   "source": [
    "Fit the model, and udpate parameters"
   ]
  },
  {
   "cell_type": "code",
   "execution_count": 99,
   "metadata": {},
   "outputs": [],
   "source": [
    "from torch.utils.data import DataLoader, TensorDataset\n",
    "import itertools\n",
    "\n",
    "def model_fit(model, train_iter, epochs, optimizer, criterion,\n",
    "              validation_iter, history, verbose, model_reg=None):\n",
    "\n",
    "    av_train_loss, av_train_acc, av_vali_loss, av_vali_acc = [], [], [], []\n",
    "    for epoch in range(epochs):\n",
    "        train_loss, train_acc_score = call_model('train', model, train_iter, optimizer, criterion, model_reg=model_reg)\n",
    "        vali_loss, vali_acc_score  = call_model('vali', model, validation_iter, optimizer, criterion)\n",
    "        if verbose: print(\"epoch: {} | TRAIN: loss {} acc {} | VALI: loss {} acc {}\".format(epoch,\n",
    "                                                                 round(train_loss, 5), \n",
    "                                                                 round(train_acc_score, 5), \n",
    "                                                                 round(vali_loss, 5), \n",
    "                                                                 round(vali_acc_score, 5)))\n",
    "        if history is not None:\n",
    "            history['epoch_loss'].append(train_loss)\n",
    "            history['epoch_val_loss'].append(vali_loss)\n",
    "            history['epoch_acc'].append(train_acc_score)\n",
    "            history['epoch_val_acc'].append(vali_acc_score)\n",
    "\n",
    "        av_train_loss.append(train_loss)\n",
    "        av_train_acc.append(train_acc_score)\n",
    "        av_vali_loss.append(vali_loss)\n",
    "        av_vali_acc.append(vali_acc_score)\n",
    "    \n",
    "    return ((np.mean(av_train_loss), np.mean(av_train_acc)), (np.mean(av_vali_loss), np.mean(av_vali_acc)))\n",
    "\n",
    "def call_model(mode, model, data_iter, optimizer, criterion, model_reg=None):\n",
    "    epoch_loss = []\n",
    "    hits = []\n",
    "    items = []\n",
    "    \n",
    "    # This is to manually regularize model, should return a value that is \n",
    "    # a function of the model parameters.\n",
    "    if model_reg == None:\n",
    "        model_reg = lambda x: 0\n",
    "\n",
    "    if mode == 'train':\n",
    "        model.train()\n",
    "        grad_mode = torch.enable_grad()\n",
    "    else:\n",
    "        model.eval()\n",
    "        grad_mode = torch.no_grad()\n",
    "\n",
    "    with grad_mode:\n",
    "\n",
    "        for batch in data_iter:\n",
    "            X, y = batch\n",
    "\n",
    "            if mode == 'train':\n",
    "                # zero the parameter gradients\n",
    "                optimizer.zero_grad()\n",
    "\n",
    "            # forward\n",
    "            y_hat = model(X.float()).float()\n",
    "\n",
    "            batch_loss = criterion(y_hat.float(), y.long()) + model_reg(model)\n",
    "\n",
    "            if mode == 'train':\n",
    "                # backward + optimize\n",
    "                batch_loss.backward()\n",
    "                optimizer.step()\n",
    "\n",
    "            epoch_loss.append(batch_loss.item())\n",
    "            if type(criterion) == CrossEntropyLoss:\n",
    "                hits.append((y_hat.argmax(1) == y.long()).sum())\n",
    "            else:\n",
    "                hits.append((((y_hat - y.float()) ** 2.).sum().item()))\n",
    "            items.append(X.shape[0])\n",
    "\n",
    "        loss = np.sum(epoch_loss)/np.sum(items)\n",
    "        acc_score = np.sum(hits)/np.sum(items)\n",
    "        return loss, acc_score"
   ]
  },
  {
   "cell_type": "markdown",
   "metadata": {},
   "source": [
    "Execute on data"
   ]
  },
  {
   "cell_type": "code",
   "execution_count": 100,
   "metadata": {},
   "outputs": [
    {
     "name": "stdout",
     "output_type": "stream",
     "text": [
      "epoch: 0 | TRAIN: loss 228.33988 acc 0.90089 | VALI: loss 0.40338 acc 0.80405\n",
      "Run time: 136.88 seconds\n"
     ]
    }
   ],
   "source": [
    "import time\n",
    "train, test = split_data(X,y,5)\n",
    "\n",
    "t0 = time.time()\n",
    "precision_recall = run_pytorch(train, test, 1, verbose=True)\n",
    "tf = time.time() - t0\n",
    "print(\"Run time: {:.2f} seconds\".format(tf))"
   ]
  },
  {
   "cell_type": "code",
   "execution_count": 101,
   "metadata": {},
   "outputs": [
    {
     "data": {
      "text/plain": [
       "(0, 0.01)"
      ]
     },
     "execution_count": 101,
     "metadata": {},
     "output_type": "execute_result"
    },
    {
     "data": {
      "image/png": "[encoded data removed]",
      "text/plain": [
       "<Figure size 432x288 with 1 Axes>"
      ]
     },
     "metadata": {
      "needs_background": "light"
     },
     "output_type": "display_data"
    }
   ],
   "source": [
    "plt.plot(precision_recall[1],precision_recall[0])\n",
    "plt.ylim([0,.01])"
   ]
  }
 ],
 "metadata": {
  "kernelspec": {
   "display_name": "Python 3",
   "language": "python",
   "name": "python3"
  },
  "language_info": {
   "codemirror_mode": {
    "name": "ipython",
    "version": 3
   },
   "file_extension": ".py",
   "mimetype": "text/x-python",
   "name": "python",
   "nbconvert_exporter": "python",
   "pygments_lexer": "ipython3",
   "version": "3.7.6"
  }
 },
 "nbformat": 4,
 "nbformat_minor": 4
}
