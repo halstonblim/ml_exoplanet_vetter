{
 "cells": [
  {
   "cell_type": "code",
   "execution_count": 2,
   "metadata": {},
   "outputs": [],
   "source": [
    "import os\n",
    "import numpy as np\n",
    "import h5py\n",
    "from matplotlib import pyplot as plt\n",
    "\n",
    "import torch\n",
    "from torch import nn\n",
    "from torch.nn import (Linear, ReLU, Conv1d, Flatten, Conv2d, Sequential,MaxPool1d, MaxPool2d, Dropout, CrossEntropyLoss)\n",
    "from torch.optim import Adam\n",
    "from torch.utils.data import DataLoader, TensorDataset\n",
    "\n",
    "from skimage.io import imread, imshow\n",
    "from skimage.transform import resize\n",
    "\n",
    "import sklearn\n",
    "import sklearn.metrics\n",
    "from sklearn.model_selection import StratifiedKFold\n",
    "\n",
    "from utils import make_iter,model_fit,call_model"
   ]
  },
  {
   "cell_type": "code",
   "execution_count": 3,
   "metadata": {
    "hide_input": true
   },
   "outputs": [],
   "source": [
    "#################################################\n",
    "# Grab Data\n",
    "#################################################\n",
    "def get_LC(filepath):\n",
    "\n",
    "    fin = h5py.File(filepath,'r')\n",
    "    localview = fin['LocalView'].get(\"Aperture_%.3d\" % fin['bestap'][0]).value\n",
    "    fin.close()\n",
    "    return localview\n",
    "\n",
    "def get_data(TICS_folderpath,label_filepath,verbose=1):\n",
    "\n",
    "    X = np.zeros((0,61),dtype='float')\n",
    "    y = np.zeros((0,),dtype='int')\n",
    "    ids = np.empty((0,),dtype='str')\n",
    "\n",
    "    known_planets = np.genfromtxt(label_filepath,dtype='str')\n",
    "\n",
    "    sectors = [\"sector-{}\".format(i) for i in [1,2,3,4,5,6,7,8,9,10,11,12,13,14,17,18,19,20,21]]\n",
    "\n",
    "    for sector in sectors:\n",
    "        # get the ids\n",
    "        sectorids = os.listdir(os.path.join(TICS_folderpath,sector,\"preprocessed\"))\n",
    "        if verbose: print(\"\\n%s\" % sector)\n",
    "\n",
    "        for i,file in enumerate(sectorids):\n",
    "\n",
    "            if verbose: print(\"--{:5d} / {:5d}\\r\".format(i,len(sectorids)),end='')\n",
    "            filepath = os.path.join(TICS_drive,sector,\"preprocessed\",file)\n",
    "\n",
    "            # get the lightcurve\n",
    "            try:\n",
    "                nX = get_LC(filepath)\n",
    "            except:\n",
    "                if verbose: print(\"bad file: \", filepath)\n",
    "            # print(nX.shape, X.shape)\n",
    "            X = np.vstack([X,nX])\n",
    "\n",
    "            # get the label\n",
    "            if file in known_planets:\n",
    "                y = np.append(y,[1],axis=0)\n",
    "            else:\n",
    "                y = np.append(y,[0],axis=0)\n",
    "\n",
    "\n",
    "        # get the id\n",
    "        ids = np.append(ids,sectorids,axis=0)\n",
    "\n",
    "    return X,y,ids\n",
    "\n",
    "def generate_data(TICS_drive,generate_input,overwrite,verbose=0):\n",
    "\n",
    "    if generate_input:\n",
    "        \n",
    "        # File containing names of known planets\n",
    "        planets_file = os.path.join(TICS_drive,\"planets.txt\")\n",
    "\n",
    "        # Generate input data\n",
    "        Xfile = os.path.join(TICS_drive,\"Xdata_cnn.npy\")\n",
    "        yfile = os.path.join(TICS_drive,\"ydata_cnn.npy\")\n",
    "        idfile = os.path.join(TICS_drive,\"ids_cnn.npy\")\n",
    "\n",
    "        if (os.path.exists(Xfile)==False) or \\\n",
    "            (os.path.exists(yfile)==False) or \\\n",
    "            (os.path.exists(idfile)==False) or overwrite:\n",
    "            if verbose: print(\"generating input data\")\n",
    "            X,y,ids = get_data(TICS_drive, planets_file, verbose=verbose)\n",
    "            np.save(Xfile,X)\n",
    "            np.save(yfile,y)\n",
    "            np.save(idfile,ids) \n",
    "        else:\n",
    "            if verbose: print(\"not generating new data: overwrite off...\")\n",
    "\n",
    "    if verbose: print(\"loading existing input data...\")\n",
    "    X = np.load(os.path.join(TICS_drive,\"Xdata_cnn.npy\"))\n",
    "    y = np.load(os.path.join(TICS_drive,\"ydata_cnn.npy\"))\n",
    "    ids = np.load(os.path.join(TICS_drive,\"ids_cnn.npy\"))\n",
    "    if verbose: print(\"X.shape, y.shape, ids.shape = \", X.shape, y.shape, ids.shape)\n",
    "\n",
    "    return X,y,ids\n",
    "\n",
    "def split_data(X,y,ids,n_fold):\n",
    "\n",
    "    skf = StratifiedKFold(n_splits=5,shuffle=True)\n",
    "\n",
    "    # only use first fold for now\n",
    "    train_i, test_i = next(skf.split(X, y))\n",
    "\n",
    "    return (X[train_i,:],y[train_i],ids[train_i]), (X[test_i,:],y[test_i],ids[test_i])"
   ]
  },
  {
   "cell_type": "code",
   "execution_count": 151,
   "metadata": {
    "hide_input": false
   },
   "outputs": [],
   "source": [
    "def make_deterministic():\n",
    "    torch.manual_seed(10)\n",
    "    torch.backends.cudnn.deterministic = True\n",
    "    torch.backends.cudnn.benchmark = False\n",
    "    np.random.seed(10)\n",
    "\n",
    "def weight_reset(l):\n",
    "    if isinstance(l, Conv2d) or isinstance(l, Linear):\n",
    "        l.reset_parameters()\n",
    "\n",
    "def run_pytorch(train_iter, val_iter, test_iter, layers, epochs,weights,verbose=True):\n",
    "\n",
    "    # Model specification\n",
    "    model = Sequential(*layers)\n",
    "\n",
    "    # Define the optimization\n",
    "    optimizer = Adam(model.parameters())\n",
    "    criterion = CrossEntropyLoss(weight=weights)\n",
    "\n",
    "    \n",
    "    # Fit the model\n",
    "    train_m, vali_m = model_fit(model, train_iter, epochs=epochs, \n",
    "                                optimizer=optimizer, criterion=criterion,\n",
    "                                validation_iter=val_iter,\n",
    "                                verbose=verbose,history=None)\n",
    "    if verbose: print()\n",
    "    \n",
    "    (train_loss, train_acc) = train_m\n",
    "    (vali_loss, val_acc) = vali_m\n",
    "    \n",
    "    # Evaluate the model on test data, if any\n",
    "    if test_iter is not None:\n",
    "        test_loss, test_acc = model_evaluate(model, test_iter, criterion)\n",
    "        print (\"\\nLoss on test set:\"  + str(test_loss) + \" Accuracy on test set: \" + str(test_acc))\n",
    "    else:\n",
    "        test_acc = None\n",
    "    return model, val_acc, test_acc\n",
    "\n",
    "def run_pytorch_fc(train, test, layers, epochs, verbose=True, trials=1, deterministic=True):\n",
    "    '''\n",
    "    train, test = input data\n",
    "    layers = list of PyTorch layers, e.g. [Linear(in_features=784, out_features=10)]\n",
    "    epochs = number of epochs to run the model for each training trial\n",
    "    trials = number of evaluation trials, resetting weights before each trial\n",
    "    '''\n",
    "    if deterministic:\n",
    "        make_deterministic()\n",
    "    (X_train, y1), (X_val, y2) = train, test\n",
    "\n",
    "    # weights\n",
    "    weights = torch.tensor(sklearn.utils.class_weight.compute_class_weight('balanced',[0,1],y1),dtype=torch.float64)\n",
    "\n",
    "    val_acc, test_acc = 0, 0\n",
    "    for trial in range(trials):\n",
    "        # Reset the weights\n",
    "        for l in layers:\n",
    "            weight_reset(l)\n",
    "        # Make Dataset Iterables\n",
    "        train_iter, val_iter = make_iter(X_train, y1, batch_size=32), make_iter(X_val, y2, batch_size=32)\n",
    "        # Run the model\n",
    "        model, vacc, tacc = \\\n",
    "            run_pytorch(train_iter, val_iter, None, layers, epochs, \\\n",
    "                        torch.tensor([.1,200],dtype=torch.float32), verbose=verbose)\n",
    "        val_acc += vacc if vacc else 0\n",
    "        test_acc += tacc if tacc else 0\n",
    "    if val_acc:\n",
    "        print(\"\\nAvg. validation accuracy:\" + str(val_acc / trials))\n",
    "    if test_acc:\n",
    "        print(\"\\nAvg. test accuracy:\" + str(test_acc / trials))\n",
    "\n",
    "    # WARNING: must cast input to FloatTensor not Double Tensor\n",
    "    predict = model(torch.FloatTensor(X_val)).data.numpy()\n",
    "\n",
    "    return sklearn.metrics.precision_recall_curve(y2, np.amax(predict,axis=1) , pos_label=1)\n",
    "\n",
    "def run_pytorch_cnn(train, test, layers, epochs, verbose=True, trials=1, deterministic=True):\n",
    "    \n",
    "    if deterministic: make_deterministic()\n",
    "    \n",
    "    # Load the dataset\n",
    "    (X_train, y1), (X_val, y2) = train, test\n",
    "    # Add a final dimension indicating the number of channels (only 1 here)\n",
    "    \n",
    "    m = X_train.shape[1]\n",
    "    X_train = X_train.reshape((X_train.shape[0], 1, m))\n",
    "    X_val = X_val.reshape((X_val.shape[0], 1, m))\n",
    "\n",
    "    val_acc, test_acc = 0, 0\n",
    "    for trial in range(trials):\n",
    "        # Reset the weights\n",
    "        for l in layers:\n",
    "            weight_reset(l)\n",
    "        # Make Dataset Iterables\n",
    "        train_iter, val_iter = make_iter(X_train, y1, batch_size=4), make_iter(X_val, y2, batch_size=4)\n",
    "        # Run the model\n",
    "        model, vacc, tacc = \\\n",
    "            run_pytorch(train_iter, val_iter, None, layers, epochs, \\\n",
    "                        torch.tensor([.5,50],dtype=torch.float32), verbose=verbose)\n",
    "        val_acc += vacc if vacc else 0\n",
    "        test_acc += tacc if tacc else 0\n",
    "    if val_acc:\n",
    "        print(\"\\nAvg. validation accuracy:\" + str(val_acc / trials))\n",
    "    if test_acc:\n",
    "        print(\"\\nAvg. test accuracy:\" + str(test_acc / trials))\n",
    "\n",
    "    predict = model(torch.FloatTensor(X_val)).data.numpy()\n",
    "\n",
    "    return sklearn.metrics.precision_recall_curve(y2, np.amax(predict,axis=1) , pos_label=1)\n"
   ]
  },
  {
   "cell_type": "code",
   "execution_count": 202,
   "metadata": {
    "scrolled": true
   },
   "outputs": [
    {
     "name": "stdout",
     "output_type": "stream",
     "text": [
      "not generating new data: overwrite off...\n",
      "loading existing input data...\n",
      "X.shape, y.shape, ids.shape =  (171117, 61) (171117,) (171117,)\n"
     ]
    }
   ],
   "source": [
    "# runtime options\n",
    "verbose = 1\n",
    "generate_input = True\n",
    "overwrite = False  \n",
    "\n",
    "# TICS folder which has binned lightcurves\n",
    "TICS_drive   = \"/Volumes/halston_lim/School_Documents/SP_2019-2020/6.862/TICS/\"\n",
    "\n",
    "# generate data and split\n",
    "X,y,ids = generate_data(TICS_drive,generate_input,overwrite,verbose=verbose)\n",
    "\n",
    "# filter out bad data\n",
    "peakmean = np.amin(X,axis=1)\n",
    "X,y,ids = X[peakmean != 0], y[peakmean !=0], ids[peakmean!=0]\n",
    "\n",
    "# test normalize\n",
    "# X = (X - np.mean(X,axis=0)) / np.std(X,axis=0)\n",
    "# X = (X - np.mean(X,axis=0,keepdims=True)) / np.std(X,axis=1,keepdims=True)\n",
    "X /= np.fabs(np.amin(X,axis=1,keepdims=True))\n",
    "\n",
    "(X_train,y_train, ids_train), (X_valid, y_valid, ids_valid) = split_data(X,y,ids,5)\n",
    "train = (X_train,y_train)\n",
    "test  = (X_valid, y_valid)\n",
    "\n",
    "# layers = [ \\\n",
    "#           nn.Conv1d(in_channels=1, out_channels=1,kernel_size=3), \\\n",
    "#           nn.ReLU(), \\\n",
    "#           nn.Dropout(p=0.5), \\\n",
    "#           nn.MaxPool1d(kernel_size=2),\n",
    "#           nn.Flatten(),\n",
    "#           nn.Linear(in_features=29, out_features=20), \\\n",
    "#           nn.Linear(in_features=20,out_features=2)]\n",
    "\n",
    "\n",
    "# ftest = run_pytorch_cnn(train, test , layers, 1, verbose=verbose,trials=1)\n",
    "\n",
    "# layers = [ \\\n",
    "#     nn.Linear(in_features=61, out_features=256), \\\n",
    "#     nn.ReLU(), \\\n",
    "#     nn.Linear(in_features=256,out_features=256), \\\n",
    "#     nn.ReLU(), \\\n",
    "#     nn.Linear(in_features=256,out_features=256), \\\n",
    "#     nn.ReLU(), \\\n",
    "#     nn.Linear(in_features=256,out_features=256), \\\n",
    "#     nn.ReLU(), \\\n",
    "#     nn.Linear(in_features=256,out_features=2)]\n",
    "\n",
    "# test = run_pytorch_fc(train, test , layers, 5, verbose=verbose,trials=1)"
   ]
  },
  {
   "cell_type": "code",
   "execution_count": 203,
   "metadata": {},
   "outputs": [
    {
     "name": "stdout",
     "output_type": "stream",
     "text": [
      "epoch: 0 | TRAIN: loss 0.03477 acc 0.98946 | VALI: loss 0.03842 acc 0.99082\n",
      "\n",
      "\n",
      "Avg. validation accuracy:0.9908160280783855\n"
     ]
    }
   ],
   "source": [
    "layers = [ \\\n",
    "          nn.Conv1d(in_channels=1, out_channels=1,kernel_size=3), \\\n",
    "          nn.ReLU(), \\\n",
    "          nn.MaxPool1d(kernel_size=2),\n",
    "          nn.Flatten(),\n",
    "          nn.Linear(in_features=29, out_features=2)]\n",
    "\n",
    "\n",
    "ftest = run_pytorch_cnn(train, test , layers, 1, verbose=verbose,trials=1)"
   ]
  },
  {
   "cell_type": "code",
   "execution_count": 183,
   "metadata": {},
   "outputs": [
    {
     "name": "stdout",
     "output_type": "stream",
     "text": [
      "epoch: 0 | TRAIN: loss 0.03421 acc 0.99078 | VALI: loss 0.03449 acc 0.99082\n",
      "\n",
      "\n",
      "Avg. validation accuracy:0.9908160280783855\n"
     ]
    }
   ],
   "source": [
    "layers2 = [ \\\n",
    "          nn.Conv1d(in_channels=1, out_channels=2,kernel_size=3), \\\n",
    "          nn.ReLU(), \\\n",
    "          nn.MaxPool1d(kernel_size=2),\n",
    "          nn.Conv1d(in_channels=2, out_channels=4,kernel_size=3), \\\n",
    "          nn.ReLU(), \\\n",
    "          nn.MaxPool1d(kernel_size=2),\n",
    "          nn.Flatten(),\n",
    "          nn.Linear(in_features=13 * 4, out_features=2)]\n",
    "\n",
    "\n",
    "ftest2 = run_pytorch_cnn(train, test , layers2, 1, verbose=verbose,trials=1)"
   ]
  },
  {
   "cell_type": "code",
   "execution_count": null,
   "metadata": {},
   "outputs": [],
   "source": [
    "# layers3 = [ \\\n",
    "          nn.Conv1d(in_channels=1, out_channels=16,kernel_size=3), \\\n",
    "          nn.ReLU(), \\\n",
    "          nn.Dropout(p=0.5), \\\n",
    "          nn.MaxPool1d(kernel_size=2),\n",
    "          nn.Conv1d(in_channels=16, out_channels=32,kernel_size=3), \\\n",
    "          nn.ReLU(), \\\n",
    "          nn.Dropout(p=0.5), \\\n",
    "          nn.MaxPool1d(kernel_size=2),\n",
    "          nn.Flatten(),\n",
    "          nn.Linear(in_features=32 * 13, out_features=20), \\\n",
    "          nn.Linear(in_features=20,out_features=2)]\n",
    "\n",
    "ftest3 = run_pytorch_cnn(train, test , layers3, 1, verbose=verbose,trials=1)"
   ]
  },
  {
   "cell_type": "code",
   "execution_count": 205,
   "metadata": {},
   "outputs": [
    {
     "data": {
      "text/plain": [
       "(0, 0.02)"
      ]
     },
     "execution_count": 205,
     "metadata": {},
     "output_type": "execute_result"
    },
    {
     "data": {
      "image/png": "[encoded data removed]",
      "text/plain": [
       "<Figure size 432x288 with 1 Axes>"
      ]
     },
     "metadata": {
      "needs_background": "light"
     },
     "output_type": "display_data"
    }
   ],
   "source": [
    "plt.plot(ftest[1],ftest[0])\n",
    "plt.plot(ftest2[1],ftest2[0])\n",
    "plt.plot(ftest3[1],ftest3[0])\n",
    "\n",
    "plt.ylim([0,.02])"
   ]
  },
  {
   "cell_type": "code",
   "execution_count": 147,
   "metadata": {},
   "outputs": [
    {
     "data": {
      "text/plain": [
       "0.009292934063857925"
      ]
     },
     "execution_count": 147,
     "metadata": {},
     "output_type": "execute_result"
    }
   ],
   "source": [
    "np.sum(y == 1) / np.sum(y == 0)"
   ]
  },
  {
   "cell_type": "code",
   "execution_count": 130,
   "metadata": {},
   "outputs": [
    {
     "name": "stdout",
     "output_type": "stream",
     "text": [
      "not generating new data: overwrite off...\n",
      "loading existing input data...\n",
      "X.shape, y.shape, ids.shape =  (171117, 61) (171117,) (171117,)\n"
     ]
    },
    {
     "data": {
      "text/plain": [
       "[<matplotlib.lines.Line2D at 0x1a2157a3d0>]"
      ]
     },
     "execution_count": 130,
     "metadata": {},
     "output_type": "execute_result"
    },
    {
     "data": {
      "image/png": "[encoded data removed]",
      "text/plain": [
       "<Figure size 432x288 with 1 Axes>"
      ]
     },
     "metadata": {
      "needs_background": "light"
     },
     "output_type": "display_data"
    }
   ],
   "source": [
    "# generate data and split\n",
    "X,y,ids = generate_data(TICS_drive,generate_input,overwrite,verbose=verbose)\n",
    "\n",
    "# filter out bad data\n",
    "peakmean = np.amin(X,axis=1)\n",
    "X,y,ids = X[peakmean != 0], y[peakmean !=0], ids[peakmean!=0]\n",
    "\n",
    "i = 10\n",
    "# plt.plot(X[i])\n",
    "Xnew = (X - np.mean(X,axis=0)) / np.std(X,axis=0)\n",
    "plt.plot(Xnew[y==0][i])"
   ]
  },
  {
   "cell_type": "code",
   "execution_count": 206,
   "metadata": {},
   "outputs": [
    {
     "name": "stdout",
     "output_type": "stream",
     "text": [
      "not generating new data: overwrite off...\n",
      "loading existing input data...\n",
      "X.shape, y.shape, ids.shape =  (171117, 61) (171117,) (171117,)\n"
     ]
    },
    {
     "data": {
      "text/plain": [
       "array(['341547271.h5', '135339029.h5', '140105580.h5', '140113649.h5',\n",
       "       '144935125.h5', '145212351.h5', '145805829.h5', '147830687.h5',\n",
       "       '149031119.h5', '149632513.h5', '149724039.h5', '149808284.h5',\n",
       "       '150238535.h5', '15169762.h5', '152041647.h5', '154109038.h5',\n",
       "       '154116157.h5', '154445467.h5', '155757469.h5', '161388833.h5',\n",
       "       '161483764.h5', '161777859.h5', '161892275.h5', '162751973.h5',\n",
       "       '162852012.h5', '163440492.h5', '163936563.h5', '164029957.h5',\n",
       "       '164713705.h5', '170986665.h5', '172278394.h5', '172616002.h5',\n",
       "       '173261367.h5', '174859881.h5', '176456302.h5', '179609869.h5',\n",
       "       '179622900.h5', '189826604.h5', '189879077.h5', '214977063.h5',\n",
       "       '214978922.h5', '215006672.h5', '215260592.h5', '215430358.h5',\n",
       "       '215599829.h5', '215640930.h5', '215695485.h5', '215849183.h5',\n",
       "       '215986986.h5', '216006236.h5', '221554586.h5', '221873499.h5',\n",
       "       '221984125.h5', '222064155.h5', '222835212.h5', '222843759.h5',\n",
       "       '223035678.h5', '223365039.h5', '223455418.h5', '223570264.h5',\n",
       "       '224361507.h5', '224671154.h5', '224671374.h5', '224802917.h5',\n",
       "       '224885745.h5', '225313062.h5', '226931012.h5', '254349071.h5',\n",
       "       '254365620.h5', '254372854.h5', '254380587.h5', '254417063.h5',\n",
       "       '254541892.h5', '254542791.h5', '254567187.h5', '254574169.h5',\n",
       "       '254621744.h5', '254651880.h5', '254652639.h5', '254692110.h5',\n",
       "       '254732019.h5', '254772266.h5', '254812189.h5', '254910022.h5',\n",
       "       '254988419.h5', '255061074.h5', '255068930.h5', '255110675.h5',\n",
       "       '255174940.h5', '255184392.h5', '255199191.h5', '255199817.h5',\n",
       "       '255215883.h5', '255247692.h5', '255263310.h5', '255270442.h5',\n",
       "       '255289144.h5', '255319422.h5', '255350577.h5', '255392132.h5',\n",
       "       '255407822.h5', '255407926.h5', '255439952.h5', '255496925.h5',\n",
       "       '256011847.h5', '256011956.h5', '257832343.h5', '258298305.h5',\n",
       "       '263005948.h5', '263007807.h5', '264357867.h5', '264855296.h5',\n",
       "       '264860398.h5', '267718846.h5', '270102606.h5', '272968281.h5',\n",
       "       '272976187.h5', '274367089.h5', '275165834.h5', '279887152.h5',\n",
       "       '280062864.h5', '282952890.h5', '28540521.h5', '286261062.h5',\n",
       "       '28630367.h5', '290018482.h5', '29023344.h5', '290246768.h5',\n",
       "       '290249101.h5', '291989722.h5', '292623631.h5', '29470964.h5',\n",
       "       '295899841.h5', '295900984.h5', '296473326.h5', '296473675.h5',\n",
       "       '303280416.h5', '303283047.h5', '315031036.h5', '315371136.h5',\n",
       "       '316009295.h5', '316696681.h5', '316712002.h5', '317905306.h5',\n",
       "       '350976743.h5', '362262089.h5', '362354144.h5', '374548712.h5',\n",
       "       '409304925.h5', '410683251.h5', '410766356.h5', '410847623.h5',\n",
       "       '411386140.h5', '411562457.h5', '412402794.h5', '464715202.h5',\n",
       "       '464754253.h5', '464854821.h5', '464912850.h5', '464961091.h5',\n",
       "       '464963621.h5', '51539286.h5', '58831167.h5', '69382512.h5',\n",
       "       '69883281.h5', '69883998.h5', '359677966.h5'], dtype='<U14')"
      ]
     },
     "execution_count": 206,
     "metadata": {},
     "output_type": "execute_result"
    }
   ],
   "source": [
    "# generate data and split\n",
    "X,y,ids = generate_data(TICS_drive,generate_input,overwrite,verbose=verbose)\n",
    "\n",
    "# filter out bad data\n",
    "peakmean = np.amin(X,axis=1)\n",
    "ids[peakmean == 0]"
   ]
  },
  {
   "cell_type": "code",
   "execution_count": 103,
   "metadata": {},
   "outputs": [
    {
     "data": {
      "text/plain": [
       "0"
      ]
     },
     "execution_count": 103,
     "metadata": {},
     "output_type": "execute_result"
    }
   ],
   "source": [
    "np.sum(np.logical_and((peakmean==0), (y == 1)))"
   ]
  }
 ],
 "metadata": {
  "kernelspec": {
   "display_name": "Python 3",
   "language": "python",
   "name": "python3"
  },
  "language_info": {
   "codemirror_mode": {
    "name": "ipython",
    "version": 3
   },
   "file_extension": ".py",
   "mimetype": "text/x-python",
   "name": "python",
   "nbconvert_exporter": "python",
   "pygments_lexer": "ipython3",
   "version": "3.7.6"
  }
 },
 "nbformat": 4,
 "nbformat_minor": 4
}
