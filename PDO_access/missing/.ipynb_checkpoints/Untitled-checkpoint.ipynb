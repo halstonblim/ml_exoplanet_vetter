{
 "cells": [
  {
   "cell_type": "code",
   "execution_count": 18,
   "metadata": {},
   "outputs": [],
   "source": [
    "import numpy as np\n",
    "import os"
   ]
  },
  {
   "cell_type": "code",
   "execution_count": 19,
   "metadata": {},
   "outputs": [],
   "source": [
    "sectordir = '../../Data/'"
   ]
  },
  {
   "cell_type": "code",
   "execution_count": 33,
   "metadata": {},
   "outputs": [],
   "source": [
    "master = []\n",
    "for i in range(1,6):\n",
    "  foundfile = f'foundpdo{i}.txt'\n",
    "  with open(foundfile,'r') as f:\n",
    "    lines = f.readlines()\n",
    "    for line in lines:\n",
    "      master.append(line)"
   ]
  },
  {
   "cell_type": "code",
   "execution_count": null,
   "metadata": {},
   "outputs": [],
   "source": []
  },
  {
   "cell_type": "markdown",
   "metadata": {},
   "source": []
  },
  {
   "cell_type": "code",
   "execution_count": 29,
   "metadata": {},
   "outputs": [],
   "source": [
    "f1 = 'foundpdo1.txt'\n",
    "with open(f1,'r') as f:\n",
    "  lines = f.readlines()\n",
    "\n",
    "anfailcount = 0\n",
    "othercount=0\n",
    "otherfails = []"
   ]
  },
  {
   "cell_type": "code",
   "execution_count": 31,
   "metadata": {
    "scrolled": false
   },
   "outputs": [
    {
     "ename": "FileNotFoundError",
     "evalue": "[Errno 2] No such file or directory: '../../Data/sector-21/astroNetOutFiles.txt'",
     "output_type": "error",
     "traceback": [
      "\u001b[0;31m---------------------------------------------------------------------------\u001b[0m",
      "\u001b[0;31mFileNotFoundError\u001b[0m                         Traceback (most recent call last)",
      "\u001b[0;32m<ipython-input-31-a94a84262eb3>\u001b[0m in \u001b[0;36m<module>\u001b[0;34m\u001b[0m\n\u001b[1;32m      8\u001b[0m   \u001b[0manfile\u001b[0m \u001b[0;34m=\u001b[0m \u001b[0mos\u001b[0m\u001b[0;34m.\u001b[0m\u001b[0mpath\u001b[0m\u001b[0;34m.\u001b[0m\u001b[0mjoin\u001b[0m\u001b[0;34m(\u001b[0m\u001b[0msectordir\u001b[0m\u001b[0;34m,\u001b[0m\u001b[0msector\u001b[0m\u001b[0;34m,\u001b[0m\u001b[0;34m'astroNetOutFiles.txt'\u001b[0m\u001b[0;34m)\u001b[0m\u001b[0;34m\u001b[0m\u001b[0;34m\u001b[0m\u001b[0m\n\u001b[1;32m      9\u001b[0m \u001b[0;34m\u001b[0m\u001b[0m\n\u001b[0;32m---> 10\u001b[0;31m   \u001b[0;32mwith\u001b[0m \u001b[0mopen\u001b[0m\u001b[0;34m(\u001b[0m\u001b[0manfile\u001b[0m\u001b[0;34m,\u001b[0m\u001b[0;34m'r'\u001b[0m\u001b[0;34m)\u001b[0m \u001b[0;32mas\u001b[0m \u001b[0manf\u001b[0m\u001b[0;34m:\u001b[0m\u001b[0;34m\u001b[0m\u001b[0;34m\u001b[0m\u001b[0m\n\u001b[0m\u001b[1;32m     11\u001b[0m     \u001b[0manlines\u001b[0m \u001b[0;34m=\u001b[0m \u001b[0manf\u001b[0m\u001b[0;34m.\u001b[0m\u001b[0mreadlines\u001b[0m\u001b[0;34m(\u001b[0m\u001b[0;34m)\u001b[0m\u001b[0;34m\u001b[0m\u001b[0;34m\u001b[0m\u001b[0m\n\u001b[1;32m     12\u001b[0m \u001b[0;34m\u001b[0m\u001b[0m\n",
      "\u001b[0;31mFileNotFoundError\u001b[0m: [Errno 2] No such file or directory: '../../Data/sector-21/astroNetOutFiles.txt'"
     ]
    }
   ],
   "source": [
    "for line in lines:\n",
    "  _, p, tic = line.split(',')\n",
    "  chunks = p.split('/')\n",
    "  sector = chunks[3]\n",
    "  cam = chunks[5]\n",
    "  ccd = chunks[6]\n",
    "  \n",
    "  anfile = os.path.join(sectordir,sector,'astroNetOutFiles.txt')\n",
    "  \n",
    "  with open(anfile,'r') as anf:\n",
    "    anlines = anf.readlines()\n",
    "\n",
    "  for each in anlines:\n",
    "    if cam in each and ccd in each:\n",
    "      othercount+=1\n",
    "      otherfails.append(tic)\n",
    "    else:\n",
    "      anfailcount+=1\n",
    "\n",
    "print(f'looking at {len(lines)}, {anfailcount} failed for astronet reasons, {othercount} other')"
   ]
  },
  {
   "cell_type": "code",
   "execution_count": 15,
   "metadata": {},
   "outputs": [
    {
     "data": {
      "text/plain": [
       "'/pdo/qlp-data/sector-12/ffi/cam4/ccd3/LC/255685030.h5'"
      ]
     },
     "execution_count": 15,
     "metadata": {},
     "output_type": "execute_result"
    }
   ],
   "source": [
    "p"
   ]
  }
 ],
 "metadata": {
  "kernelspec": {
   "display_name": "Python 3",
   "language": "python",
   "name": "python3"
  },
  "language_info": {
   "codemirror_mode": {
    "name": "ipython",
    "version": 3
   },
   "file_extension": ".py",
   "mimetype": "text/x-python",
   "name": "python",
   "nbconvert_exporter": "python",
   "pygments_lexer": "ipython3",
   "version": "3.6.8"
  }
 },
 "nbformat": 4,
 "nbformat_minor": 2
}
