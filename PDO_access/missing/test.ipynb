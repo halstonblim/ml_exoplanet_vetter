{
 "cells": [
  {
   "cell_type": "code",
   "execution_count": 16,
   "metadata": {},
   "outputs": [
    {
     "name": "stdout",
     "output_type": "stream",
     "text": [
      "Nicholass-MacBook-Air-5.local\n"
     ]
    }
   ],
   "source": [
    "import numpy as np\n",
    "import os\n",
    "from findmissing import *"
   ]
  },
  {
   "cell_type": "code",
   "execution_count": 17,
   "metadata": {
    "scrolled": false
   },
   "outputs": [
    {
     "name": "stdout",
     "output_type": "stream",
     "text": [
      "The autoreload extension is already loaded. To reload it, use:\n",
      "  %reload_ext autoreload\n"
     ]
    }
   ],
   "source": [
    "%load_ext autoreload\n",
    "%autoreload 2"
   ]
  },
  {
   "cell_type": "code",
   "execution_count": 18,
   "metadata": {},
   "outputs": [
    {
     "data": {
      "text/plain": [
       "1693"
      ]
     },
     "execution_count": 18,
     "metadata": {},
     "output_type": "execute_result"
    }
   ],
   "source": [
    "getNumUniqueSystems('labels.tsv')"
   ]
  },
  {
   "cell_type": "code",
   "execution_count": 20,
   "metadata": {},
   "outputs": [],
   "source": [
    "a,b,c = getPrev('foundPlanets.txt')"
   ]
  },
  {
   "cell_type": "code",
   "execution_count": 23,
   "metadata": {},
   "outputs": [
    {
     "data": {
      "text/plain": [
       "(1154, 428, 111)"
      ]
     },
     "execution_count": 23,
     "metadata": {},
     "output_type": "execute_result"
    }
   ],
   "source": [
    "len(a[0]), len(b[0]), len(c)"
   ]
  },
  {
   "cell_type": "code",
   "execution_count": null,
   "metadata": {},
   "outputs": [],
   "source": []
  },
  {
   "cell_type": "code",
   "execution_count": null,
   "metadata": {},
   "outputs": [],
   "source": [
    "prevFound, prevSkipped, prevMissing = getPrev()"
   ]
  },
  {
   "cell_type": "code",
   "execution_count": null,
   "metadata": {},
   "outputs": [],
   "source": [
    "s,c,ccd = a[0]"
   ]
  },
  {
   "cell_type": "code",
   "execution_count": null,
   "metadata": {},
   "outputs": [],
   "source": [
    "ccd"
   ]
  },
  {
   "cell_type": "code",
   "execution_count": null,
   "metadata": {},
   "outputs": [],
   "source": [
    "a[0].replace(\"'\",\"\").strip('\\n)(').split(', ')"
   ]
  },
  {
   "cell_type": "code",
   "execution_count": null,
   "metadata": {
    "scrolled": true
   },
   "outputs": [],
   "source": [
    "with open('foundPlanets.txt','r') as f:\n",
    "  a = f.readlines()"
   ]
  },
  {
   "cell_type": "code",
   "execution_count": null,
   "metadata": {},
   "outputs": [],
   "source": [
    "f = [[1,2,3],[2,3,4]]\n",
    "\n",
    "np.shape(f)"
   ]
  },
  {
   "cell_type": "code",
   "execution_count": null,
   "metadata": {},
   "outputs": [],
   "source": [
    "for a,b in np.transpose(f):\n",
    "  print(a,b)"
   ]
  },
  {
   "cell_type": "code",
   "execution_count": null,
   "metadata": {},
   "outputs": [],
   "source": [
    "np.hstack((f,p))[1]"
   ]
  },
  {
   "cell_type": "code",
   "execution_count": null,
   "metadata": {
    "scrolled": true
   },
   "outputs": [],
   "source": [
    "found = [[],[]]\n",
    "skipped = [[],[]]\n",
    "missing = []\n",
    "for b in a:\n",
    "  status = b.split(' ')[0]\n",
    "  tic = b.split(' ')[1]\n",
    "  info = ' '.join(b.split(' ')[2:])\n",
    "  \n",
    "  if status == 'Found':\n",
    "    found[0].append(tic)\n",
    "    found[1].append(info)\n",
    "  elif status == 'Skipped':\n",
    "    skipped[0].append(tic)\n",
    "    skipped[1].append(info)\n",
    "  else:\n",
    "    missing.append(tic)"
   ]
  },
  {
   "cell_type": "code",
   "execution_count": null,
   "metadata": {},
   "outputs": [],
   "source": [
    "missing"
   ]
  },
  {
   "cell_type": "code",
   "execution_count": null,
   "metadata": {},
   "outputs": [],
   "source": [
    "info"
   ]
  },
  {
   "cell_type": "code",
   "execution_count": null,
   "metadata": {},
   "outputs": [],
   "source": [
    "a"
   ]
  },
  {
   "cell_type": "code",
   "execution_count": null,
   "metadata": {},
   "outputs": [],
   "source": [
    "def findInRaw(tic):\n",
    "  baseDir = '/pdo/qlp-data/'\n",
    "  sectors = os.listdir(baseDir)\n",
    "  sectors = [sector for sector in sectors if 'sector' in sector]\n",
    "\n",
    "  cams = ['cam1','cam2','cam3','cam4']\n",
    "  ccds = ['ccd1', 'ccd2', 'ccd3', 'ccd4']\n",
    "\n",
    "  ticlist = np.loadtxt('missing.txt',str)\n",
    "  found = []\n",
    "  foundCount=0\n",
    "  notfound = []\n",
    "\n",
    "  for tic in tqdm(ticlist):\n",
    "    foundtic=False\n",
    "    for sector in sectors[::-1]:\n",
    "      foundsector=False\n",
    "      for cam in cams:\n",
    "        for ccd in ccds:\n",
    "          testpath = os.path.join(baseDir,sector,'ffi/',cam,ccd,'LC/',tic)\n",
    "          if os.path.exists(testpath):\n",
    "            found.append([pdo, testpath, tic])\n",
    "            foundsector=True\n",
    "            foundtic=True\n",
    "            foundCount+=1\n",
    "      if foundsector:\n",
    "        break\n",
    "    print(foundCount)\n",
    "    if not foundtic:\n",
    "      notfound.append(tic)"
   ]
  },
  {
   "cell_type": "code",
   "execution_count": null,
   "metadata": {},
   "outputs": [],
   "source": [
    "def loadPlanetInfo(pathtolabels):\n",
    "  raw = np.loadtxt(pathtolabels, dtype=str, skiprows=2,delimiter='\\t')\n",
    "  data = a[1:]\n",
    "\n",
    "  TICID = data[:,0]\n",
    "  source = data[:,16]\n",
    "  sectors_strs = data[:,-5]\n",
    "  \n",
    "  sectors = []\n",
    "  for sectors_str in sectors_strs:\n",
    "    float_sectors = []\n",
    "    if len(sectors_str.strip()) == 0:\n",
    "      sectors.append(None)\n",
    "      continue\n",
    "    for sector in sectors_str.strip().split(','):\n",
    "      try:\n",
    "        if '\"' in sector:\n",
    "          try:\n",
    "            float_sec = int(sector.strip()[1:])\n",
    "          except ValueError:\n",
    "            float_sec = int(sector.strip()[:-1])\n",
    "        else:\n",
    "          float_sec = int(sector.strip())\n",
    "      except Exception as e:\n",
    "        print(e)\n",
    "      float_sectors.append(float_sec)\n",
    "    float_sectors.sort()\n",
    "    sectors.append(float_sectors[-1])\n",
    "  return TICID, source, sectors"
   ]
  },
  {
   "cell_type": "code",
   "execution_count": null,
   "metadata": {},
   "outputs": [],
   "source": [
    "tics,source, sectors = loadPlanetInfo('labels.tsv')"
   ]
  },
  {
   "cell_type": "code",
   "execution_count": null,
   "metadata": {},
   "outputs": [],
   "source": []
  },
  {
   "cell_type": "code",
   "execution_count": null,
   "metadata": {},
   "outputs": [],
   "source": [
    "np.sum(source=='qlp')"
   ]
  },
  {
   "cell_type": "code",
   "execution_count": null,
   "metadata": {},
   "outputs": [],
   "source": [
    "header = a[0]\n"
   ]
  },
  {
   "cell_type": "code",
   "execution_count": null,
   "metadata": {
    "code_folding": []
   },
   "outputs": [],
   "source": []
  },
  {
   "cell_type": "code",
   "execution_count": null,
   "metadata": {},
   "outputs": [],
   "source": [
    "data[0]"
   ]
  },
  {
   "cell_type": "code",
   "execution_count": null,
   "metadata": {},
   "outputs": [],
   "source": [
    "header"
   ]
  },
  {
   "cell_type": "code",
   "execution_count": null,
   "metadata": {},
   "outputs": [],
   "source": [
    "r.sort()\n",
    "r[-1]"
   ]
  },
  {
   "cell_type": "code",
   "execution_count": null,
   "metadata": {},
   "outputs": [],
   "source": [
    "r = [1,4,3,26,7,2]"
   ]
  },
  {
   "cell_type": "code",
   "execution_count": null,
   "metadata": {},
   "outputs": [],
   "source": [
    "sectors"
   ]
  },
  {
   "cell_type": "code",
   "execution_count": null,
   "metadata": {},
   "outputs": [],
   "source": [
    "sectordir = '../../Data/'"
   ]
  },
  {
   "cell_type": "code",
   "execution_count": null,
   "metadata": {},
   "outputs": [],
   "source": [
    "master = []\n",
    "for i in range(1,6):\n",
    "  foundfile = f'foundpdo{i}.txt'\n",
    "  with open(foundfile,'r') as f:\n",
    "    lines = f.readlines()\n",
    "    for line in lines:\n",
    "      master.append(line)"
   ]
  },
  {
   "cell_type": "code",
   "execution_count": null,
   "metadata": {
    "code_folding": [],
    "scrolled": true
   },
   "outputs": [],
   "source": [
    "anfailcount = 0\n",
    "othercount=0\n",
    "spoccount=0\n",
    "otherfails = []\n",
    "tics = []\n",
    "for line in master:\n",
    "  _, p, tic = line.strip().split(',')\n",
    "  chunks = p.split('/')\n",
    "  sector = chunks[3]\n",
    "  cam = chunks[5]\n",
    "  ccd = chunks[6]\n",
    "  \n",
    "  if tic in tics:\n",
    "    continue\n",
    "  else:\n",
    "    tics.append(tic)\n",
    "  \n",
    "  if 'spoc' in sector:\n",
    "    spoccount+=1\n",
    "    continue\n",
    "  \n",
    "  anfile = os.path.join(sectordir,sector,'astroNetOutFiles.txt')\n",
    "  \n",
    "  with open(anfile,'r') as anf:\n",
    "    anlines = anf.readlines()\n",
    "\n",
    "  anfail=True\n",
    "  for each in anlines:\n",
    "    if cam in each and ccd in each:\n",
    "      othercount+=1\n",
    "      otherfails.append([tic.strip(),each.strip()])\n",
    "      anfail=False\n",
    "      break\n",
    "  if anfail:\n",
    "    anfailcount+=1\n",
    "\n",
    "print(f'looking at {len(tics)}, {anfailcount} failed for astronet reasons, {othercount} other')"
   ]
  },
  {
   "cell_type": "code",
   "execution_count": null,
   "metadata": {},
   "outputs": [],
   "source": [
    "with open('failed.txt','w') as f:\n",
    "  for each in otherfails:\n",
    "    print(','.join(each),file=f)"
   ]
  },
  {
   "cell_type": "code",
   "execution_count": null,
   "metadata": {},
   "outputs": [],
   "source": []
  }
 ],
 "metadata": {
  "kernelspec": {
   "display_name": "Python 3",
   "language": "python",
   "name": "python3"
  },
  "language_info": {
   "codemirror_mode": {
    "name": "ipython",
    "version": 3
   },
   "file_extension": ".py",
   "mimetype": "text/x-python",
   "name": "python",
   "nbconvert_exporter": "python",
   "pygments_lexer": "ipython3",
   "version": "3.6.8"
  }
 },
 "nbformat": 4,
 "nbformat_minor": 2
}
