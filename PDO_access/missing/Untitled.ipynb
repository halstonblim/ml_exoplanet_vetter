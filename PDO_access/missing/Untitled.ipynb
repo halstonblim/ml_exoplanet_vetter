{
 "cells": [
  {
   "cell_type": "code",
   "execution_count": 1,
   "metadata": {},
   "outputs": [],
   "source": [
    "import numpy as np\n",
    "import os"
   ]
  },
  {
   "cell_type": "code",
   "execution_count": 2,
   "metadata": {},
   "outputs": [],
   "source": [
    "sectordir = '../../Data/'"
   ]
  },
  {
   "cell_type": "code",
   "execution_count": 3,
   "metadata": {},
   "outputs": [],
   "source": [
    "master = []\n",
    "for i in range(1,6):\n",
    "  foundfile = f'foundpdo{i}.txt'\n",
    "  with open(foundfile,'r') as f:\n",
    "    lines = f.readlines()\n",
    "    for line in lines:\n",
    "      master.append(line)"
   ]
  },
  {
   "cell_type": "code",
   "execution_count": 12,
   "metadata": {
    "code_folding": [],
    "scrolled": true
   },
   "outputs": [
    {
     "name": "stdout",
     "output_type": "stream",
     "text": [
      "looking at 730, 68 failed for astronet reasons, 641 other\n"
     ]
    }
   ],
   "source": [
    "anfailcount = 0\n",
    "othercount=0\n",
    "spoccount=0\n",
    "otherfails = []\n",
    "tics = []\n",
    "for line in master:\n",
    "  _, p, tic = line.strip().split(',')\n",
    "  chunks = p.split('/')\n",
    "  sector = chunks[3]\n",
    "  cam = chunks[5]\n",
    "  ccd = chunks[6]\n",
    "  \n",
    "  if tic in tics:\n",
    "    continue\n",
    "  else:\n",
    "    tics.append(tic)\n",
    "  \n",
    "  if 'spoc' in sector:\n",
    "    spoccount+=1\n",
    "    continue\n",
    "  \n",
    "  anfile = os.path.join(sectordir,sector,'astroNetOutFiles.txt')\n",
    "  \n",
    "  with open(anfile,'r') as anf:\n",
    "    anlines = anf.readlines()\n",
    "\n",
    "  anfail=True\n",
    "  for each in anlines:\n",
    "    if cam in each and ccd in each:\n",
    "      othercount+=1\n",
    "      otherfails.append([tic.strip(),each.strip()])\n",
    "      anfail=False\n",
    "      break\n",
    "  if anfail:\n",
    "    anfailcount+=1\n",
    "\n",
    "print(f'looking at {len(tics)}, {anfailcount} failed for astronet reasons, {othercount} other')"
   ]
  },
  {
   "cell_type": "code",
   "execution_count": 15,
   "metadata": {},
   "outputs": [],
   "source": [
    "with open('failed.txt','w') as f:\n",
    "  for each in otherfails:\n",
    "    print(','.join(each),file=f)"
   ]
  },
  {
   "cell_type": "code",
   "execution_count": null,
   "metadata": {},
   "outputs": [],
   "source": []
  }
 ],
 "metadata": {
  "kernelspec": {
   "display_name": "Python 3",
   "language": "python",
   "name": "python3"
  },
  "language_info": {
   "codemirror_mode": {
    "name": "ipython",
    "version": 3
   },
   "file_extension": ".py",
   "mimetype": "text/x-python",
   "name": "python",
   "nbconvert_exporter": "python",
   "pygments_lexer": "ipython3",
   "version": "3.6.8"
  }
 },
 "nbformat": 4,
 "nbformat_minor": 2
}
