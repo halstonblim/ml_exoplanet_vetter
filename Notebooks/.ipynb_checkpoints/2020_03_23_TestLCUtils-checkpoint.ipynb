{
 "cells": [
  {
   "cell_type": "markdown",
   "metadata": {},
   "source": [
    "# Preprocess Lightcurve"
   ]
  },
  {
   "cell_type": "markdown",
   "metadata": {},
   "source": [
    "(1) Select data folder containing .h5 light curves\n",
    "\n",
    "(2) Select folder where to output binned light curves (stored as .h5)"
   ]
  },
  {
   "cell_type": "code",
   "execution_count": null,
   "metadata": {},
   "outputs": [],
   "source": [
    "import sys, os\n",
    "import numpy as np\n",
    "import matplotlib.pyplot as plt\n",
    "from statsmodels.robust import scale\n",
    "import collections\n",
    "import h5py\n",
    "\n",
    "# From Chelsea\n",
    "sys.path.append('../Modules')\n",
    "\n",
    "# From astronet\n",
    "sys.path.append('../Modules') \n",
    "from astronet import median_filter\n",
    "\n",
    "%load_ext autoreload\n",
    "%autoreload 2\n",
    "\n",
    "from dataPreproc import *"
   ]
  },
  {
   "cell_type": "code",
   "execution_count": 2,
   "metadata": {},
   "outputs": [],
   "source": [
    "%matplotlib notebook"
   ]
  },
  {
   "cell_type": "code",
   "execution_count": 3,
   "metadata": {},
   "outputs": [],
   "source": [
    "# Bins for single period phase folded\n",
    "nbins_global = 201\n",
    "nbins_local  = 61\n",
    "\n",
    "# Bins for double period phase folded\n",
    "nbins_double = 402\n",
    "\n",
    "# Number of apertures\n",
    "naps  = 3 \n",
    "\n",
    "# Array that holds all single period lcs\n",
    "errors   = []"
   ]
  },
  {
   "cell_type": "markdown",
   "metadata": {},
   "source": [
    "### modified"
   ]
  },
  {
   "cell_type": "code",
   "execution_count": 4,
   "metadata": {},
   "outputs": [],
   "source": [
    "# Select data folder containing light curves and .blsanal\n",
    "lcfolder  = \"../Data/2020_03_26_TestData/LC/\"\n",
    "blsfolder = \"../Data/2020_03_26_TestData/BLS/\"\n",
    "\n",
    "# Select folder where binned lightcurves are saved. Lightcurve names are the same as input\n",
    "outputfolder = \"./test/\"\n",
    "\n",
    "\n",
    "# Find all light curve files\n",
    "\n",
    "# Loop through all files in LC folder\n",
    "allfiles = os.listdir(lcfolder)\n",
    "ngood    = 0\n",
    "nerrors  = 0\n",
    "nfatal   = 0\n",
    "\n",
    "errors = []\n",
    "fatal  = []"
   ]
  },
  {
   "cell_type": "code",
   "execution_count": 5,
   "metadata": {},
   "outputs": [
    {
     "name": "stdout",
     "output_type": "stream",
     "text": [
      "Error on Process Even Odd in ../Data/2020_03_26_TestData/LC/127530399.h5\n",
      "Too few points near transit\n"
     ]
    },
    {
     "ename": "TypeError",
     "evalue": "'int' object is not iterable",
     "output_type": "error",
     "traceback": [
      "\u001b[0;31m---------------------------------------------------------------------------\u001b[0m",
      "\u001b[0;31mTypeError\u001b[0m                                 Traceback (most recent call last)",
      "\u001b[0;32m<ipython-input-5-37ca25f841bb>\u001b[0m in \u001b[0;36m<module>\u001b[0;34m\u001b[0m\n\u001b[1;32m      6\u001b[0m     \u001b[0mngood\u001b[0m\u001b[0;34m+=\u001b[0m\u001b[0;36m1\u001b[0m\u001b[0;34m\u001b[0m\u001b[0;34m\u001b[0m\u001b[0m\n\u001b[1;32m      7\u001b[0m   \u001b[0;32melif\u001b[0m \u001b[0mval\u001b[0m \u001b[0;34m==\u001b[0m \u001b[0;36m0\u001b[0m\u001b[0;34m:\u001b[0m\u001b[0;34m\u001b[0m\u001b[0;34m\u001b[0m\u001b[0m\n\u001b[0;32m----> 8\u001b[0;31m     \u001b[0merrors\u001b[0m\u001b[0;34m+=\u001b[0m\u001b[0;36m1\u001b[0m\u001b[0;34m\u001b[0m\u001b[0;34m\u001b[0m\u001b[0m\n\u001b[0m\u001b[1;32m      9\u001b[0m     \u001b[0merrors\u001b[0m\u001b[0;34m.\u001b[0m\u001b[0mappend\u001b[0m\u001b[0;34m(\u001b[0m\u001b[0mlcname\u001b[0m\u001b[0;34m)\u001b[0m\u001b[0;34m\u001b[0m\u001b[0;34m\u001b[0m\u001b[0m\n\u001b[1;32m     10\u001b[0m   \u001b[0;32melif\u001b[0m \u001b[0mval\u001b[0m \u001b[0;34m==\u001b[0m \u001b[0;34m-\u001b[0m\u001b[0;36m1\u001b[0m\u001b[0;34m:\u001b[0m\u001b[0;34m\u001b[0m\u001b[0;34m\u001b[0m\u001b[0m\n",
      "\u001b[0;31mTypeError\u001b[0m: 'int' object is not iterable"
     ]
    }
   ],
   "source": [
    "for i, lcname in enumerate(allfiles):\n",
    "  print(\"{} / {}\\r\".format(i,len(allfiles)-1),end=\"\")\n",
    "  \n",
    "  val = processLC(lcname, lcfolder, blsfolder, outputfolder)\n",
    "  if val == 1:\n",
    "    ngood+=1\n",
    "  elif val == 0:\n",
    "    nerrors+=1\n",
    "    errors.append(lcname)\n",
    "  elif val == -1:\n",
    "    nfatal += 1\n",
    "    fatal.append(lcname)\n",
    "    os.remove(os.path.join(outputfolder, lcname))\n",
    "\n",
    "print('Processed {} lightcurves'.format(len(allfiles)))\n",
    "print('  --  {} Done successfully'.format(ngood))\n",
    "print('  --  {} Done partially'.format(nerrors))\n",
    "print('  --  {} failed'.format(nfatal))"
   ]
  },
  {
   "cell_type": "code",
   "execution_count": null,
   "metadata": {
    "scrolled": true
   },
   "outputs": [],
   "source": [
    "# Loop over each lightcurve\n",
    "for i, lcname in enumerate(allfiles):\n",
    "    # Progress bar\n",
    "    print(\"{} / {}\\r\".format(i,len(allfiles)-1),end=\"\")\n",
    "    \n",
    "    try:\n",
    "        val = processLC(lcname, lcfolder, blsfolder, outputfolder)\n",
    "        if val == 1:\n",
    "    except Exception as e:\n",
    "        print(e)\n",
    "        print(\"Could not read in {}\".format(lcfolder+lcname))\n",
    "        errors.append(lcname)\n",
    "        h5outputfile.close()\n",
    "        os.remove(os.path.join(outputfolder,lcname))\n",
    "print(\"Found {} lightcurves, ommitting {} files\".format(ngood,nomit))\n",
    "print(\"{} errors\".format(len(errors)))"
   ]
  },
  {
   "cell_type": "markdown",
   "metadata": {},
   "source": [
    "#### exp"
   ]
  },
  {
   "cell_type": "code",
   "execution_count": null,
   "metadata": {},
   "outputs": [],
   "source": [
    "for i in range(len(allfiles)):\n",
    "  if '127530399' in allfiles[i]:\n",
    "    print(i)"
   ]
  },
  {
   "cell_type": "code",
   "execution_count": null,
   "metadata": {},
   "outputs": [],
   "source": [
    "i = 30\n",
    "loadAttempt = loadFiles(allfiles[i], lcfolder, blsfolder,\n",
    "                          outputfolder, overwrite=True)\n",
    "h5inputfile, blsanal, h5outputfile = loadAttempt\n",
    "\n",
    "best_ap = \"Aperture_%.3d\" % h5inputfile[\"LightCurve\"][\"AperturePhotometry\"].attrs['bestap']\n",
    "h5outputfile.create_dataset(\"bestap\",(1,), data =  int(best_ap[-3:]))\n",
    "\n",
    "#####################\n",
    "# 1. Single period binned lightcurves, all aps\n",
    "#####################\n",
    "processApertures(h5inputfile, h5outputfile,\n",
    "                  blsanal)\n",
    "\n",
    "# processEvenOdd(h5inputfile, h5outputfile, blsanal)\n",
    "\n",
    "# processSecondary(h5inputfile, h5outputfile, blsanal)"
   ]
  },
  {
   "cell_type": "code",
   "execution_count": null,
   "metadata": {},
   "outputs": [],
   "source": [
    "flux, time =  getLC(h5inputfile, best_ap)\n",
    "period  = blsanal['BLS_Period_1_0']\n",
    "duration = blsanal[\"BLS_Qtran_1_0\"] * period\n",
    "t0 = blsanal[\"BLS_Tc_1_0\"]"
   ]
  },
  {
   "cell_type": "code",
   "execution_count": null,
   "metadata": {},
   "outputs": [],
   "source": [
    "period, duration, t0 = unpackBLS(blsanal)\n",
    "\n",
    "bestAp = \"Aperture_%.3d\" % h5outputfile['bestap'][0]\n",
    "flux, time = getLC(h5inputfile, bestAp)\n",
    "folded_flux, folded_time = phaseFold(flux, time, period*2, t0+period/2)\n",
    "cut_index = min(range(len(folded_time)), key=lambda i: abs(folded_time[i]))\n",
    "\n",
    "evenFlux = folded_flux[:cut_index]\n",
    "evenTime = folded_time[:cut_index] + period/2\n",
    "\n",
    "oddFlux = folded_flux[cut_index:]\n",
    "oddTime = folded_time[cut_index:] - period/2"
   ]
  },
  {
   "cell_type": "code",
   "execution_count": null,
   "metadata": {},
   "outputs": [],
   "source": [
    "plt.figure()\n",
    "plt.plot(oddTime,oddFlux)"
   ]
  },
  {
   "cell_type": "code",
   "execution_count": null,
   "metadata": {
    "scrolled": false
   },
   "outputs": [],
   "source": [
    "genLocalView(oddFlux, oddTime, period, duration,61)"
   ]
  },
  {
   "cell_type": "markdown",
   "metadata": {},
   "source": [
    "#### plotall"
   ]
  },
  {
   "cell_type": "code",
   "execution_count": null,
   "metadata": {},
   "outputs": [],
   "source": [
    "flux, time =  getLC(h5inputfile, best_ap)\n",
    "period  = blsanal['BLS_Period_1_0']\n",
    "duration = blsanal[\"BLS_Qtran_1_0\"] * period\n",
    "t0 = blsanal[\"BLS_Tc_1_0\"]\n",
    "\n",
    "ff,ft = phaseFold(flux, time,period,t0)\n",
    "\n",
    "gv = genGlobalView(ff,ft,period)\n",
    "lv = genLocalView(ff,ft,period, duration)\n",
    "\n",
    "ev = np.array(h5outputfile['EvenOdd']['Even'])\n",
    "ov = np.array(h5outputfile['EvenOdd']['Odd'])\n",
    "\n",
    "sv = np.array(h5outputfile['Secondary'])"
   ]
  },
  {
   "cell_type": "code",
   "execution_count": null,
   "metadata": {},
   "outputs": [],
   "source": [
    "plt.figure(figsize=(12,6))\n",
    "rows=3\n",
    "cols=2\n",
    "ymin = .995\n",
    "ymax = 1.002\n",
    "\n",
    "plt.subplot(rows,cols,1)\n",
    "plt.plot(time,flux)\n",
    "plt.ylim(ymin,ymax)\n",
    "\n",
    "plt.subplot(rows, cols, 2)\n",
    "plt.scatter(ft,ff)\n",
    "plt.title('phased')\n",
    "plt.ylim(ymin,ymax)\n",
    "\n",
    "plt.subplot(rows, cols, 3)\n",
    "plt.title('gv')\n",
    "plt.scatter(np.arange(len(gv)), gv)\n",
    "plt.ylim(ymin-1,ymax-1)\n",
    "\n",
    "plt.subplot(rows, cols, 4)\n",
    "plt.title('lv')\n",
    "plt.scatter(np.arange(len(lv)), lv)\n",
    "plt.ylim(ymin-1,ymax-1)\n",
    "\n",
    "plt.subplot(rows, cols, 5)\n",
    "plt.title('ev/od')\n",
    "plt.scatter(np.arange(len(ev)), ev)\n",
    "plt.scatter(np.arange(len(ov)), ov,alpha=0.7)\n",
    "plt.ylim(ymin-1,ymax-1)\n",
    "\n",
    "plt.subplot(rows, cols, 6)\n",
    "plt.title('sec')\n",
    "plt.scatter(np.arange(len(sv)), sv)\n",
    "plt.ylim(ymin-1,ymax-1)\n",
    "\n",
    "plt.tight_layout()"
   ]
  },
  {
   "cell_type": "code",
   "execution_count": null,
   "metadata": {
    "scrolled": true
   },
   "outputs": [],
   "source": [
    "for i, lcname in enumerate(allfiles):\n",
    "  if i not in [1,20, 10,13]:\n",
    "    continue\n",
    "  loadAttempt = loadFiles(lcname, lcfolder, blsfolder,\n",
    "                          outputfolder, overwrite=True)\n",
    "  try:\n",
    "    h5inputfile, blsanal, h5outputfile = loadAttempt\n",
    "    ngood+=1\n",
    "  except TypeError as e:\n",
    "    if loadAttempt == 0:\n",
    "      nomit+=1\n",
    "    else:\n",
    "      raise(e)\n",
    "\n",
    "  # Check which is best ap\n",
    "  best_ap = \"Aperture_%.3d\" % h5inputfile[\"LightCurve\"][\"AperturePhotometry\"].attrs['bestap']\n",
    "  h5outputfile.create_dataset(\"bestap\",(1,), data =  int(best_ap[-3:]))\n",
    "\n",
    "  #####################\n",
    "  # 1. Single period binned lightcurves, all aps\n",
    "  #####################\n",
    "  processApertures(h5inputfile, h5outputfile,\n",
    "                  blsanal)\n",
    "\n",
    "  plt.figure()\n",
    "  plt.subplot(131)\n",
    "  plt.plot(h5outputfile['LocalView'][best_ap])\n",
    "  plt.subplot(132)\n",
    "  plt.plot(h5outputfile['GlobalView'][best_ap])\n",
    "  plt.subplot(133)\n",
    "  plt.plot(h5outputfile['GlobalView'][best_ap])\n",
    "  plt.show()\n",
    "  \n",
    "  h5inputfile.close()\n",
    "  h5outputfile.close()\n",
    "  break"
   ]
  },
  {
   "cell_type": "markdown",
   "metadata": {},
   "source": [
    "### raw"
   ]
  },
  {
   "cell_type": "code",
   "execution_count": null,
   "metadata": {},
   "outputs": [],
   "source": [
    "# Select data folder containing light curves and .blsanal\n",
    "lcfolder  = \"../Data/2020_03_26_TestData/LC/\"\n",
    "blsfolder = \"../Data/2020_03_26_TestData/BLS/\"\n",
    "\n",
    "# Select folder where binned lightcurves are saved. Lightcurve names are the same as input\n",
    "outputfolder = \"./raw/\"\n",
    "assert os.path.normpath(outputfolder) != os.path.normpath(lcfolder), \"Won't overwrite data files\"\n",
    "\n",
    "# Find all light curve files\n",
    "\n",
    "# Loop through all files in LC folder\n",
    "allfiles = os.listdir(lcfolder)\n",
    "lcfiles  = []\n",
    "blsfiles = []\n",
    "nomit    = 0\n",
    "for lcfile in allfiles:\n",
    "    \n",
    "    # construct .blsanal filepath given .h5 filepath\n",
    "    blsfile = os.path.join(blsfolder,lcfile).replace(\"h5\",\"blsanal\")\n",
    "\n",
    "    # check LC file has .h5 extension\n",
    "    # check accompanying BLS file exists\n",
    "    if (lcfile.split(\".\")[-1] == \"h5\" and os.path.exists(blsfile)):\n",
    "        lcfiles.append(lcfile)\n",
    "        blsfiles.append(blsfile)\n",
    "    else:\n",
    "        nomit += 1\n",
    "        \n",
    "nfiles = len(lcfiles)\n",
    "print(\"Found {} lightcurves and ommitted {} files\".format(nfiles,nomit))"
   ]
  },
  {
   "cell_type": "markdown",
   "metadata": {},
   "source": [
    "- 3 lightcurves, phase folded period = 1, binned, all apertures\n",
    "- 1 lightcurve, phase folded period = 2, halfperiod = 2, binned, main aperture only"
   ]
  },
  {
   "cell_type": "code",
   "execution_count": null,
   "metadata": {
    "code_folding": [],
    "scrolled": true
   },
   "outputs": [],
   "source": [
    "# Loop over each lightcurve\n",
    "for i in range(nfiles):\n",
    "    \n",
    "    # Progress bar\n",
    "    print(\"{} / {}\\r\".format(i,nfiles-1),end=\"\")\n",
    "    \n",
    "    try:\n",
    "        # Input LC from existing .h5\n",
    "        filepath = os.path.join(lcfolder,lcfiles[i])\n",
    "        h5inputfile = h5py.File(filepath,'r')\n",
    "        og_time = np.array(h5inputfile[\"LightCurve\"][\"BJD\"])\n",
    "        \n",
    "        # Read in period\n",
    "        blsanal = np.genfromtxt(blsfiles[i], dtype=float, delimiter=' ', names=True) \n",
    "        period  = blsanal['BLS_Period_1_0']\n",
    "        duration = blsanal[\"BLS_Qtran_1_0\"] * period\n",
    "        t0 = blsanal[\"BLS_Tc_1_0\"]\n",
    "        # Output binned LC to new .h5 in different folder\n",
    "        if os.path.exists(os.path.join(outputfolder,lcfiles[i])):\n",
    "            os.remove(os.path.join(outputfolder,lcfiles[i]))\n",
    "        h5outputfile = h5py.File(os.path.join(outputfolder,lcfiles[i]),\"w\")\n",
    "        globalviews   = h5outputfile.create_group(\"GlobalView\")\n",
    "        localviews    = h5outputfile.create_group(\"LocalView\")\n",
    "\n",
    "        # Check which is best ap\n",
    "        best_ap = \"Aperture_%.3d\" % h5inputfile[\"LightCurve\"][\"AperturePhotometry\"].attrs['bestap']\n",
    "        h5outputfile.create_dataset(\"bestap\",(1,), data =  int(best_ap[-3:]))\n",
    "\n",
    "        #####################\n",
    "        # 1. Single period binned lightcurves, all aps\n",
    "        #####################\n",
    "        aps_list = list(h5inputfile[\"LightCurve\"][\"AperturePhotometry\"].keys())\n",
    "\n",
    "        for j in range(len(aps_list)):\n",
    "            #Load flux, time\n",
    "            apKey = \"Aperture_%.3d\" % j\n",
    "            all_flux, all_time = getLC(h5inputfile, apKey, og_time)\n",
    "\n",
    "            # Phase Fold\n",
    "            half_period  = period / 2\n",
    "            folded_time  = np.mod(all_time + (half_period - t0), period) - half_period\n",
    "            sorted_i     = np.argsort(folded_time)\n",
    "            folded_time  = folded_time[sorted_i]\n",
    "            folded_flux  = all_flux[sorted_i]\n",
    "\n",
    "            ##############\n",
    "            # Global view\n",
    "            ##############\n",
    "            bin_width_global = period * 1.2 / nbins_global\n",
    "            (tmin_global,tmax_global) = (-period / 2, period / 2)\n",
    "            view  = median_filter.median_filter(folded_time, folded_flux, nbins_global, \\\n",
    "                                                bin_width_global, tmin_global,tmax_global)\n",
    "\n",
    "            # Center about zero flux\n",
    "            view -= np.median(view)\n",
    "\n",
    "            # Shift bins so bin with minimum flux is centered\n",
    "            view = collections.deque(view)\n",
    "            minindex = np.argmin(view)\n",
    "            view.rotate(100 - minindex) # hardcoded assuming nbins_global = 201\n",
    "            globalviews.create_dataset(aps_list[j],(nbins_global,),dtype=float, \\\n",
    "                                       data = np.array(view))\n",
    "            ##############\n",
    "            # Local view\n",
    "            ##############\n",
    "            bin_width_local = duration * 0.16\n",
    "            tmin_local = max(-period / 2, -2 * duration)\n",
    "            tmax_local = min(period / 2, 2* duration)\n",
    "\n",
    "            view  = median_filter.median_filter(folded_time, folded_flux, nbins_local, \\\n",
    "                                                bin_width_local, tmin_local,tmax_local)\n",
    "\n",
    "            # Center about zero flux\n",
    "            view -= np.median(view)\n",
    "\n",
    "            # Shift bins so bin with minimum flux is centered\n",
    "            view = collections.deque(view)\n",
    "            minindex = np.argmin(view)\n",
    "            view.rotate(30 - minindex) # hardcoded assuming nbins_local = 61\n",
    "            datad = np.array(view)\n",
    "            localviews.create_dataset(aps_list[j],(nbins_local,), \\\n",
    "                                       data = datad)\n",
    "            \n",
    "            \n",
    "            \n",
    "        #####################\n",
    "        # 2. Double period light curve, only best ap\n",
    "        #####################\n",
    "#         all_mag  = np.array(h5inputfile[\"LightCurve\"][\"AperturePhotometry\"][best_ap][\"KSPMagnitude\"])\n",
    "\n",
    "#         real_indices = ~np.isnan(all_mag)\n",
    "#         all_mag  = all_mag[real_indices]\n",
    "#         all_time = og_time[real_indices]\n",
    "\n",
    "#         mad           = scale.mad(all_mag)\n",
    "#         valid_indices = np.where(all_mag > np.median(all_mag)-5*mad)\n",
    "\n",
    "#         all_mag       = all_mag[valid_indices]\n",
    "#         all_time      = all_time[valid_indices]\n",
    "\n",
    "#         # Convert mag to flux\n",
    "#         all_flux = 10.**(-(all_mag - np.median(all_mag))/2.5)\n",
    "\n",
    "#         # Phase Fold\n",
    "#         half_period  = period / 4\n",
    "#         folded_time  = np.mod(all_time + (half_period), period) - half_period\n",
    "#         sorted_i     = np.argsort(folded_time)\n",
    "#         folded_time  = folded_time[sorted_i]\n",
    "#         folded_flux  = all_flux[sorted_i]\n",
    "\n",
    "#         # Bin with median values\n",
    "#         bin_width = 2 * period * 1.2 / nbins\n",
    "#         (tmin,tmax) = (-period / 2, period / 2)\n",
    "#         view  = median_filter.median_filter(folded_time, folded_flux, nbins, bin_width, tmin,tmax)\n",
    "\n",
    "#         # Normalize\n",
    "#         view -= np.median(view)\n",
    "# #         view /= np.abs(np.min(view))  # breaks if min(view) is zero...\n",
    "#         globalviews.create_dataset(\"Double\",(nbins_double,),dtype=float, data = np.array(view))\n",
    "\n",
    "        h5outputfile.close()\n",
    "    except Exception as e:\n",
    "        print(e)\n",
    "        print(\"Could not read in {}\".format(filepath))\n",
    "        errors.append(lcfiles[i])\n",
    "        h5outputfile.close()\n",
    "        os.remove(os.path.join(outputfolder,lcfiles[i]))\n",
    "print(\"{} errors\".format(len(errors)))"
   ]
  },
  {
   "cell_type": "markdown",
   "metadata": {},
   "source": [
    "### comparision"
   ]
  },
  {
   "cell_type": "code",
   "execution_count": null,
   "metadata": {},
   "outputs": [],
   "source": [
    "tfl = os.listdir('./raw')\n",
    "for i,lcname in enumerate(tfl):\n",
    "  print(\"{} / {}\\r\".format(i,len(tfl)-1),end=\"\")\n",
    "  f1 = './raw/'+lcname\n",
    "  f2 = './mod/'+lcname\n",
    "\n",
    "  d1 = h5py.File(f1, 'r')\n",
    "  d2 = h5py.File(f2, 'r')\n",
    "  \n",
    "  bad=False\n",
    "  for ap in ['Aperture_000', 'Aperture_001', 'Aperture_002', 'Aperture_003', 'Aperture_004']:\n",
    "    gd = np.array(d1['GlobalView'][ap]) - np.array(d2['GlobalView'][ap])\n",
    "    ld = np.array(d1['LocalView'][ap]) - np.array(d2['LocalView'][ap])\n",
    "    gd = np.max(np.abs(gd))\n",
    "    ld = np.max(np.abs(ld))\n",
    "\n",
    "    if gd != 0:\n",
    "      bad=True\n",
    "    if ld != 0:\n",
    "      bad=True\n",
    "  if bad:\n",
    "    print(lcname + ' is bad')"
   ]
  },
  {
   "cell_type": "code",
   "execution_count": null,
   "metadata": {},
   "outputs": [],
   "source": [
    "test = h5py.File(os.path.join(outputfolder,lcfiles[59]),'r')\n",
    "\n",
    "fig,ax = plt.subplots(ncols = 2,figsize=(12,3))\n",
    "ax[0].plot(test[\"GlobalView\"][\"Aperture_%.3d\" % test[\"bestap\"][0]])\n",
    "ax[1].plot(test[\"LocalView\"][\"Aperture_%.3d\" % test[\"bestap\"][0]])"
   ]
  }
 ],
 "metadata": {
  "kernelspec": {
   "display_name": "Python 3",
   "language": "python",
   "name": "python3"
  },
  "language_info": {
   "codemirror_mode": {
    "name": "ipython",
    "version": 3
   },
   "file_extension": ".py",
   "mimetype": "text/x-python",
   "name": "python",
   "nbconvert_exporter": "python",
   "pygments_lexer": "ipython3",
   "version": "3.6.8"
  }
 },
 "nbformat": 4,
 "nbformat_minor": 4
}
