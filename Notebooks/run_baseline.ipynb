{
 "cells": [
  {
   "cell_type": "code",
   "execution_count": null,
   "metadata": {},
   "outputs": [],
   "source": [
    "%load_ext autoreload\n",
    "%autoreload 2\n",
    "%matplotlib notebook"
   ]
  },
  {
   "cell_type": "code",
   "execution_count": 33,
   "metadata": {},
   "outputs": [],
   "source": [
    "import numpy as np\n",
    "import os, sys\n",
    "sys.path.append('..')\n",
    "from baseline import *\n",
    "import matplotlib.pyplot as plt\n",
    "\n",
    "from sklearn.ensemble import RandomForestClassifier\n",
    "from sklearn.model_selection import KFold, train_test_split\n",
    "from sklearn.utils import resample\n",
    "from sklearn import linear_model\n",
    "\n",
    "from tqdm import tqdm_notebook as tqdm"
   ]
  },
  {
   "cell_type": "code",
   "execution_count": null,
   "metadata": {},
   "outputs": [],
   "source": [
    "sectors = [f'sector-{i}' for i in np.arange(1,23)]\n",
    "rawData, y =loadData(sectors, '../')"
   ]
  },
  {
   "cell_type": "code",
   "execution_count": null,
   "metadata": {},
   "outputs": [],
   "source": [
    "np.sum(y), len(y)-np.sum(y)"
   ]
  },
  {
   "cell_type": "code",
   "execution_count": 5,
   "metadata": {
    "code_folding": []
   },
   "outputs": [],
   "source": [
    "# Features:\n",
    "  #   [0] astronet score\n",
    "  #   [1] depth best ap - 1\n",
    "  #   [2] depth best ap (global)\n",
    "  #   [3] depth best ap + 1 or best ap\n",
    "  #   [4] error best ap - 1\n",
    "  #   [5] error best ap (global)\n",
    "  #   [6] error best ap + 1\n",
    "  # \n",
    "  #   [7] depth best ap - 1\n",
    "  #   [8] depth best ap (local)\n",
    "  #   [9] depth best ap + 1 or best ap\n",
    "  #   [10] error best ap - 1\n",
    "  #   [11] error best ap (local)\n",
    "  #   [12] error best ap + 1\n",
    "  # \n",
    "  #   [13] depth even\n",
    "  #   [14] depth odd\n",
    "  #   [15] error even\n",
    "  #   [16] error odd\n",
    "\n",
    "  #   [17] depth secondary\n",
    "  #   [18] error seconday"
   ]
  },
  {
   "cell_type": "code",
   "execution_count": 25,
   "metadata": {},
   "outputs": [],
   "source": [
    "x_1 = rawData[:,[0,7,8,9,13,14,17]]\n",
    "x_2 = rawData[:,[0,1,2,3,7,8,9,13,14,17]]\n",
    "x_3 = rawData[:,[0,1,2,3,7,8,9,13,14,15,16,17,18]]\n",
    "x_full = rawData"
   ]
  },
  {
   "cell_type": "code",
   "execution_count": 24,
   "metadata": {},
   "outputs": [
    {
     "name": "stdout",
     "output_type": "stream",
     "text": [
      "Random Forest\n",
      "1 / 5 2 / 5 3 / 5 4 / 5 5 / 5 782 - True Positive, 131481 - True Negative\n",
      "TN, TP, FN, FP\n",
      "[23323   114    34  2982]\n",
      "[23455   122    35  2841]\n",
      "[23631   137    38  2647]\n",
      "[23423   113    37  2879]\n",
      "[23518   121    31  2782]\n",
      "[117350    607    175  14131]\n",
      "Feature Importances\n",
      "[0.10982902 0.12294402 0.13231255 0.21628334 0.11037802 0.08152227\n",
      " 0.22673078]\n"
     ]
    }
   ],
   "source": [
    "print('Random Forest')\n",
    "RFresults, RFimportances = testModel(x,y,RFModel, 10)\n",
    "RFimportances=RFimportances[0]\n",
    "print(f'{int(np.sum(y))} - True Positive, {int(np.sum(1-y))} - True Negative')\n",
    "print('TN, TP, FN, FP')\n",
    "for kfold in RFresults:\n",
    "  print(kfold)\n",
    "print(np.sum(RFresults,0))\n",
    "print('Feature Importances')\n",
    "print(np.median(RFimportances,0))"
   ]
  },
  {
   "cell_type": "code",
   "execution_count": 36,
   "metadata": {},
   "outputs": [],
   "source": [
    "x_train, x_test, y_train, y_test = train_test_split(x, y, test_size=0.25,random_state = 420)"
   ]
  },
  {
   "cell_type": "code",
   "execution_count": 45,
   "metadata": {},
   "outputs": [
    {
     "data": {
      "text/plain": [
       "RandomForestClassifier(bootstrap=True, class_weight=None, criterion='gini',\n",
       "            max_depth=2, max_features='auto', max_leaf_nodes=None,\n",
       "            min_impurity_decrease=0.0, min_impurity_split=None,\n",
       "            min_samples_leaf=1, min_samples_split=2,\n",
       "            min_weight_fraction_leaf=0.0, n_estimators=100, n_jobs=None,\n",
       "            oob_score=False, random_state=None, verbose=0,\n",
       "            warm_start=False)"
      ]
     },
     "execution_count": 45,
     "metadata": {},
     "output_type": "execute_result"
    }
   ],
   "source": [
    "x_train, y_train = overSamplePos(x_train,y_train)\n",
    "clf = RandomForestClassifier(n_estimators=100,max_depth=2)\n",
    "clf.fit(x_train,y_train)\n"
   ]
  },
  {
   "cell_type": "code",
   "execution_count": 46,
   "metadata": {},
   "outputs": [
    {
     "data": {
      "text/plain": [
       "0.7939272969213089"
      ]
     },
     "execution_count": 46,
     "metadata": {},
     "output_type": "execute_result"
    }
   ],
   "source": [
    "clf.score(x_test,y_test)"
   ]
  },
  {
   "cell_type": "code",
   "execution_count": 30,
   "metadata": {},
   "outputs": [
    {
     "name": "stdout",
     "output_type": "stream",
     "text": [
      "782 - True Positive, 131481 - True Negative\n",
      "Depths, No Global\n",
      "--------\n",
      "1 / 5 2 / 5 3 / 5 4 / 5 5 / 5 TN, TP, FN, FP\n",
      "[36842   740    42 94639]\n",
      "Coefficients\n",
      "[ 0.28878379 -0.0730868   0.31740804  1.133522    0.05700832  0.17759356\n",
      " -0.22604455]\n",
      "\n",
      "\n",
      "------------------------------\n",
      "\n",
      "\n",
      "Depths Only\n",
      "--------\n",
      "1 / 5 2 / 5 3 / 5 4 / 5 5 / 5 TN, TP, FN, FP\n",
      "[36675   741    41 94806]\n",
      "Coefficients\n",
      "[ 0.29071973  0.12308021 -0.08781888  0.44291226 -0.18052222  0.3298281\n",
      "  0.84269341  0.05090479  0.13638939 -0.27144229]\n",
      "\n",
      "\n",
      "------------------------------\n",
      "\n",
      "\n",
      "Error on EOS\n",
      "--------\n",
      "1 / 5 2 / 5 3 / 5 4 / 5 5 / 5 TN, TP, FN, FP\n",
      "[41034   732    50 90447]\n",
      "Coefficients\n",
      "[ 0.27514413  0.13320003 -0.12619403  0.46977216 -0.15773474  0.12734443\n",
      "  0.87113433  0.04755169  0.17790745 -1.20252541  0.15022767 -0.39506614\n",
      " -2.42896775]\n",
      "\n",
      "\n",
      "------------------------------\n",
      "\n",
      "\n",
      "full\n",
      "--------\n",
      "1 / 5 2 / 5 3 / 5 4 / 5 5 / 5 TN, TP, FN, FP\n",
      "[41936   733    49 89545]\n",
      "Coefficients\n",
      "[ 0.27059689  0.15783336 -0.15827252  0.41417607  1.27384525 -0.81851509\n",
      " -1.95073088 -0.01267321  0.09310246  0.80917888  0.5560788   0.04236593\n",
      " -0.54778639  0.04422924  0.15686937 -1.05066826  0.28085632 -0.65310422\n",
      " -1.37340764]\n",
      "\n",
      "\n",
      "------------------------------\n",
      "\n",
      "\n"
     ]
    }
   ],
   "source": [
    "print(f'{int(np.sum(y))} - True Positive, {int(np.sum(1-y))} - True Negative')\n",
    "for i,x in enumerate([x_1,x_2,x_3,x_full]):\n",
    "  print(['Depths, No Global','Depths Only', 'Error on EOS', 'full'][i])\n",
    "  print('--------')\n",
    "#   print('Linear Regression')\n",
    "  LRresults, LRcoefs = testModel(x,y,LRModel, 0.05)\n",
    "  LRcoefs=LRcoefs[0]\n",
    "  print('TN, TP, FN, FP')\n",
    "#   for kfold in LRresults:\n",
    "#     print(kfold)\n",
    "  print(np.sum(LRresults,0))\n",
    "  print('Coefficients')\n",
    "  print(np.median(LRcoefs,0))\n",
    "  \n",
    "  print('')\n",
    "  print('')\n",
    "  print('------------------------------')\n",
    "  print('')\n",
    "  print('')"
   ]
  }
 ],
 "metadata": {
  "kernelspec": {
   "display_name": "Python 3",
   "language": "python",
   "name": "python3"
  },
  "language_info": {
   "codemirror_mode": {
    "name": "ipython",
    "version": 3
   },
   "file_extension": ".py",
   "mimetype": "text/x-python",
   "name": "python",
   "nbconvert_exporter": "python",
   "pygments_lexer": "ipython3",
   "version": "3.6.8"
  }
 },
 "nbformat": 4,
 "nbformat_minor": 2
}
