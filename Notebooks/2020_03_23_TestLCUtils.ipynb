{
 "cells": [
  {
   "cell_type": "markdown",
   "metadata": {},
   "source": [
    "# Routines to Test LC Utils"
   ]
  },
  {
   "cell_type": "markdown",
   "metadata": {},
   "source": [
    "(1) Non-standard libraries required:\n",
    "- pyfits\n",
    "\n",
    "(2) Some files that need a \"2to3 -w\" conversion:\n",
    "- lctools/hd5flc/hdf5lc.py\n",
    "- tsig/lightcurve/lightcurve.py\n",
    "\n",
    "(3) Select data folder containing .h5 light curves"
   ]
  },
  {
   "cell_type": "code",
   "execution_count": 4,
   "metadata": {},
   "outputs": [],
   "source": [
    "import sys, os\n",
    "import numpy as np\n",
    "import matplotlib.pyplot as plt\n",
    "from statsmodels.robust import scale\n",
    "import collections\n",
    "import h5py\n",
    "\n",
    "# From Chelsea\n",
    "sys.path.append('../Modules')\n",
    "\n",
    "# From astronet\n",
    "sys.path.append('../Modules') \n",
    "from astronet import median_filter\n"
   ]
  },
  {
   "cell_type": "code",
   "execution_count": 5,
   "metadata": {},
   "outputs": [
    {
     "name": "stdout",
     "output_type": "stream",
     "text": [
      "Found 96 lightcurves and ommitted 0 files\n"
     ]
    }
   ],
   "source": [
    "lcfolder  = \"../Data/2020_03_26_TestData/LC/\"\n",
    "blsfolder = \"../Data/2020_03_26_TestData/BLS/\"\n",
    "outputfolder = \"./\"\n",
    "\n",
    "# Find all light curve files\n",
    "\n",
    "# Loop through all files in LC folder\n",
    "allfiles = os.listdir(lcfolder)\n",
    "lcfiles  = []\n",
    "blsfiles = []\n",
    "nomit    = 0\n",
    "for lcfile in allfiles:\n",
    "    \n",
    "    # construct .blsanal filepath given .h5 filepath\n",
    "    blsfile = os.path.join(blsfolder,lcfile).replace(\"h5\",\"blsanal\")\n",
    "\n",
    "    # check LC file has .h5 extension\n",
    "    # check accompanying BLS file exists\n",
    "    if (lcfile.split(\".\")[-1] == \"h5\" and os.path.exists(blsfile)):\n",
    "        lcfiles.append(lcfile)\n",
    "        blsfiles.append(blsfile)\n",
    "    else:\n",
    "        nomit += 1\n",
    "        \n",
    "nfiles = len(lcfiles)\n",
    "print(\"Found {} lightcurves and ommitted {} files\".format(nfiles,nomit))"
   ]
  },
  {
   "cell_type": "markdown",
   "metadata": {},
   "source": [
    "- 3 lightcurves, phase folded period = 1, binned, all apertures\n",
    "- 1 lightcurve, phase folded period = 2, halfperiod = 2, binned, main aperture only"
   ]
  },
  {
   "cell_type": "code",
   "execution_count": 14,
   "metadata": {
    "scrolled": true
   },
   "outputs": [
    {
     "name": "stdout",
     "output_type": "stream",
     "text": [
      "0 errors\n"
     ]
    }
   ],
   "source": [
    "# Each single period phase folded lightcurve has 201 bins\n",
    "nbins = 201\n",
    "\n",
    "# Double period phase folded light curve\n",
    "nbins_double = 201\n",
    "\n",
    "# Number of apertures\n",
    "naps  = 3 \n",
    "\n",
    "# Array that holds all single period lcs\n",
    "errors   = []\n",
    "\n",
    "# Loop over each lightcurve\n",
    "for i in range(nfiles):\n",
    "    print(\"{} / {}\\r\".format(i,nfiles-1),end=\"\")\n",
    "    try:\n",
    "        # Read in LC from existing .h5\n",
    "        filepath = os.path.join(lcfolder,lcfiles[i])\n",
    "        h5file = h5py.File(os.path.join(lcfolder,lcfiles[i]),'r')\n",
    "        og_time = np.array(h5file[\"LightCurve\"][\"BJD\"])\n",
    "        \n",
    "        # Read in period\n",
    "        blsanal = np.genfromtxt(blsfiles[i], dtype=float, delimiter=' ', names=True) \n",
    "        period  = blsanal['BLS_Period_1_0']\n",
    "\n",
    "        # Create .h5 to store binned data\n",
    "        if os.path.exists(os.path.join(outputfolder,lcfiles[i])):\n",
    "              os.remove(os.path.join(outputfolder,lcfiles[i]))\n",
    "        globalviews = h5py.File(os.path.join(outputfolder,lcfiles[i]),\"w\")\n",
    "\n",
    "        # Check which is best ap\n",
    "        best_ap = \"Aperture_%.3d\" % h5file[\"LightCurve\"][\"AperturePhotometry\"].attrs['bestap']\n",
    "        globalviews.create_dataset(\"bestap\",(1,), data =  int(best_ap[-3:]))\n",
    "\n",
    "        # Loop over all apertures creating single period binned lightcurves\n",
    "        aps_list = list(h5file[\"LightCurve\"][\"AperturePhotometry\"].keys())\n",
    "        for j in range(len(aps_list)):\n",
    "\n",
    "            all_mag  = np.array(h5file[\"LightCurve\"][\"AperturePhotometry\"][\"Aperture_%.3d\" % j][\"KSPMagnitude\"])\n",
    "\n",
    "            real_indices = ~np.isnan(all_mag)\n",
    "            all_mag  = all_mag[real_indices]\n",
    "            all_time = og_time[real_indices]\n",
    "\n",
    "            mad           = scale.mad(all_mag)\n",
    "            valid_indices = np.where(all_mag > np.median(all_mag)-5*mad)\n",
    "            assert len(valid_indices) <= 1, \"Need more data points\"\n",
    "\n",
    "            all_mag       = all_mag[valid_indices]\n",
    "            all_time      = all_time[valid_indices]\n",
    "\n",
    "            # Convert mag to flux\n",
    "            all_flux = 10.**(-(all_mag - np.median(all_mag))/2.5)\n",
    "\n",
    "            # Phase Fold\n",
    "            half_period  = period / 2\n",
    "            folded_time  = np.mod(all_time + (half_period), period) - half_period\n",
    "            sorted_i     = np.argsort(folded_time)\n",
    "            folded_time  = folded_time[sorted_i]\n",
    "            folded_flux  = all_flux[sorted_i]\n",
    "\n",
    "            # Bin with median values\n",
    "            bin_width = period * 1.2 / nbins\n",
    "            (tmin,tmax) = (-period / 2, period / 2)\n",
    "            view  = median_filter.median_filter(folded_time, folded_flux, nbins, bin_width, tmin,tmax)\n",
    "\n",
    "            # Normalize\n",
    "            view -= np.median(view)\n",
    "            view /= np.abs(np.min(view))  # breaks if min(view) is zero...\n",
    "\n",
    "            # Place minimum flux at center most index\n",
    "            view = collections.deque(view)\n",
    "            minindex     = np.argmin(view)\n",
    "            view.rotate(100 - minindex)\n",
    "            globalviews.create_dataset(aps_list[j],(nbins,),dtype=float, data = np.array(view))\n",
    "\n",
    "        # Repeat with double period light curve\n",
    "        all_mag  = np.array(h5file[\"LightCurve\"][\"AperturePhotometry\"][best_ap][\"KSPMagnitude\"])\n",
    "\n",
    "        real_indices = ~np.isnan(all_mag)\n",
    "        all_mag  = all_mag[real_indices]\n",
    "        all_time = og_time[real_indices]\n",
    "\n",
    "        mad           = scale.mad(all_mag)\n",
    "        valid_indices = np.where(all_mag > np.median(all_mag)-5*mad)\n",
    "\n",
    "        all_mag       = all_mag[valid_indices]\n",
    "        all_time      = all_time[valid_indices]\n",
    "\n",
    "\n",
    "        # Convert mag to flux\n",
    "        all_flux = 10.**(-(all_mag - np.median(all_mag))/2.5)\n",
    "\n",
    "        # Phase Fold\n",
    "        period *= 2\n",
    "        half_period  = period / 4\n",
    "        folded_time  = np.mod(all_time + (half_period), period) - half_period\n",
    "        sorted_i     = np.argsort(folded_time)\n",
    "        folded_time  = folded_time[sorted_i]\n",
    "        folded_flux  = all_flux[sorted_i]\n",
    "\n",
    "        # Bin with median values\n",
    "        bin_width = period * 1.2 / nbins\n",
    "        (tmin,tmax) = (-period / 2, period / 2)\n",
    "        view  = median_filter.median_filter(folded_time, folded_flux, nbins, bin_width, tmin,tmax)\n",
    "\n",
    "        # Normalize\n",
    "        view -= np.median(view)\n",
    "        view /= np.abs(np.min(view))  # breaks if min(view) is zero...\n",
    "        globalviews.create_dataset(\"Double\",(nbins_double,),dtype=float, data = np.array(view))\n",
    "\n",
    "        globalviews.close()\n",
    "    except:\n",
    "        print(\"Could not read in {}\".format(filepath))\n",
    "        errors.append(lcfiles[i])\n",
    "        globalviews.close()\n",
    "        os.remove(os.path.join(outputfolder,lcfiles[i]))\n",
    "print(\"{} errors\".format(len(errors)))"
   ]
  },
  {
   "cell_type": "code",
   "execution_count": 26,
   "metadata": {},
   "outputs": [
    {
     "data": {
      "text/plain": [
       "[<matplotlib.lines.Line2D at 0x2b6bf6e7bc90>]"
      ]
     },
     "execution_count": 26,
     "metadata": {},
     "output_type": "execute_result"
    },
    {
     "data": {
      "image/png": "[encoded data removed]",
      "text/plain": [
       "<Figure size 432x288 with 1 Axes>"
      ]
     },
     "metadata": {
      "needs_background": "light"
     },
     "output_type": "display_data"
    }
   ],
   "source": [
    "test = h5py.File(os.path.join(outputfolder,lcfiles[70]),'r')\n",
    "d = np.array(test[\"Aperture_%.3d\" % test[\"bestap\"][0]])\n",
    "plt.plot(d)\n",
    "            "
   ]
  }
 ],
 "metadata": {
  "kernelspec": {
   "display_name": "Python 3",
   "language": "python",
   "name": "python3"
  },
  "language_info": {
   "codemirror_mode": {
    "name": "ipython",
    "version": 3
   },
   "file_extension": ".py",
   "mimetype": "text/x-python",
   "name": "python",
   "nbconvert_exporter": "python",
   "pygments_lexer": "ipython3",
   "version": "3.7.6"
  }
 },
 "nbformat": 4,
 "nbformat_minor": 4
}
