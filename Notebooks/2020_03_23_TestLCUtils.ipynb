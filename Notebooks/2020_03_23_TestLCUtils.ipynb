{
 "cells": [
  {
   "cell_type": "markdown",
   "metadata": {},
   "source": [
    "# Preprocess Lightcurve"
   ]
  },
  {
   "cell_type": "markdown",
   "metadata": {},
   "source": [
    "(1) Select data folder containing .h5 light curves\n",
    "\n",
    "(2) Select folder where to output binned light curves (stored as .h5)"
   ]
  },
  {
   "cell_type": "code",
   "execution_count": 204,
   "metadata": {},
   "outputs": [],
   "source": [
    "import sys, os\n",
    "import numpy as np\n",
    "import matplotlib.pyplot as plt\n",
    "from statsmodels.robust import scale\n",
    "import collections\n",
    "import h5py\n",
    "\n",
    "# From Chelsea\n",
    "sys.path.append('../Modules')\n",
    "\n",
    "# From astronet\n",
    "sys.path.append('../Modules') \n",
    "from astronet import median_filter\n"
   ]
  },
  {
   "cell_type": "code",
   "execution_count": 3,
   "metadata": {},
   "outputs": [
    {
     "name": "stdout",
     "output_type": "stream",
     "text": [
      "Found 96 lightcurves and ommitted 0 files\n"
     ]
    }
   ],
   "source": [
    "# Select data folder containing light curves and .blsanal\n",
    "lcfolder  = \"../Data/2020_03_26_TestData/LC/\"\n",
    "blsfolder = \"../Data/2020_03_26_TestData/BLS/\"\n",
    "\n",
    "# Select folder where binned lightcurves are saved. Lightcurve names are the same as input\n",
    "outputfolder = \"./\"\n",
    "assert os.path.normpath(outputfolder) != os.path.normpath(lcfolder), \"Won't overwrite data files\"\n",
    "\n",
    "# Find all light curve files\n",
    "\n",
    "# Loop through all files in LC folder\n",
    "allfiles = os.listdir(lcfolder)\n",
    "lcfiles  = []\n",
    "blsfiles = []\n",
    "nomit    = 0\n",
    "for lcfile in allfiles:\n",
    "    \n",
    "    # construct .blsanal filepath given .h5 filepath\n",
    "    blsfile = os.path.join(blsfolder,lcfile).replace(\"h5\",\"blsanal\")\n",
    "\n",
    "    # check LC file has .h5 extension\n",
    "    # check accompanying BLS file exists\n",
    "    if (lcfile.split(\".\")[-1] == \"h5\" and os.path.exists(blsfile)):\n",
    "        lcfiles.append(lcfile)\n",
    "        blsfiles.append(blsfile)\n",
    "    else:\n",
    "        nomit += 1\n",
    "        \n",
    "nfiles = len(lcfiles)\n",
    "print(\"Found {} lightcurves and ommitted {} files\".format(nfiles,nomit))"
   ]
  },
  {
   "cell_type": "markdown",
   "metadata": {},
   "source": [
    "- 3 lightcurves, phase folded period = 1, binned, all apertures\n",
    "- 1 lightcurve, phase folded period = 2, halfperiod = 2, binned, main aperture only"
   ]
  },
  {
   "cell_type": "code",
   "execution_count": 188,
   "metadata": {
    "scrolled": true
   },
   "outputs": [
    {
     "name": "stdout",
     "output_type": "stream",
     "text": [
      "0 errors\n"
     ]
    }
   ],
   "source": [
    "# Bins for single period phase folded\n",
    "nbins_global = 201\n",
    "nbins_local  = 61\n",
    "\n",
    "# Bins for double period phase folded\n",
    "nbins_double = 402\n",
    "\n",
    "# Number of apertures\n",
    "naps  = 3 \n",
    "\n",
    "# Array that holds all single period lcs\n",
    "errors   = []\n",
    "\n",
    "# Loop over each lightcurve\n",
    "for i in range(nfiles):\n",
    "    \n",
    "    # Progress bar\n",
    "    print(\"{} / {}\\r\".format(i,nfiles-1),end=\"\")\n",
    "    \n",
    "    try:\n",
    "        # Input LC from existing .h5\n",
    "        filepath = os.path.join(lcfolder,lcfiles[i])\n",
    "        h5inputfile = h5py.File(os.path.join(lcfolder,lcfiles[i]),'r')\n",
    "        og_time = np.array(h5inputfile[\"LightCurve\"][\"BJD\"])\n",
    "        \n",
    "        # Read in period\n",
    "        blsanal = np.genfromtxt(blsfiles[i], dtype=float, delimiter=' ', names=True) \n",
    "        period  = blsanal['BLS_Period_1_0']\n",
    "        duration = blsanal[\"BLS_Qtran_1_0\"] * period\n",
    "        t0 = blsanal[\"BLS_Tc_1_0\"]\n",
    "        # Output binned LC to new .h5 in different folder\n",
    "        if os.path.exists(os.path.join(outputfolder,lcfiles[i])):\n",
    "            os.remove(os.path.join(outputfolder,lcfiles[i]))\n",
    "        h5outputfile = h5py.File(os.path.join(outputfolder,lcfiles[i]),\"w\")\n",
    "        globalviews   = h5outputfile.create_group(\"GlobalView\")\n",
    "        localviews    = h5outputfile.create_group(\"LocalView\")\n",
    "\n",
    "        # Check which is best ap\n",
    "        best_ap = \"Aperture_%.3d\" % h5inputfile[\"LightCurve\"][\"AperturePhotometry\"].attrs['bestap']\n",
    "        h5outputfile.create_dataset(\"bestap\",(1,), data =  int(best_ap[-3:]))\n",
    "\n",
    "        #####################\n",
    "        # 1. Single period binned lightcurves, all aps\n",
    "        #####################\n",
    "        aps_list = list(h5inputfile[\"LightCurve\"][\"AperturePhotometry\"].keys())\n",
    "\n",
    "        for j in range(len(aps_list)):\n",
    "            # Read in time, KSP magnitude\n",
    "            all_mag  = np.array(h5inputfile[\"LightCurve\"][\"AperturePhotometry\"][\"Aperture_%.3d\" % j][\"KSPMagnitude\"])\n",
    "            real_indices = ~np.isnan(all_mag)\n",
    "            all_mag  = all_mag[real_indices]\n",
    "            all_time = og_time[real_indices]\n",
    "\n",
    "            # Remove outliers\n",
    "            mad           = scale.mad(all_mag)\n",
    "            valid_indices = np.where(all_mag > np.median(all_mag)-5*mad)\n",
    "            assert len(valid_indices) <= 1, \"Need more data points\"\n",
    "            all_mag       = all_mag[valid_indices]\n",
    "            all_time      = all_time[valid_indices]\n",
    "\n",
    "            # Convert mag to flux\n",
    "            all_flux = 10.**(-(all_mag - np.median(all_mag))/2.5)\n",
    "\n",
    "            # Phase Fold\n",
    "            half_period  = period / 2\n",
    "            folded_time  = np.mod(all_time + (half_period - t0), period) - half_period\n",
    "            sorted_i     = np.argsort(folded_time)\n",
    "            folded_time  = folded_time[sorted_i]\n",
    "            folded_flux  = all_flux[sorted_i]\n",
    "\n",
    "            ##############\n",
    "            # Global view\n",
    "            ##############\n",
    "            bin_width_global = period * 1.2 / nbins_global\n",
    "            (tmin_global,tmax_global) = (-period / 2, period / 2)\n",
    "            view  = median_filter.median_filter(folded_time, folded_flux, nbins_global, \\\n",
    "                                                bin_width_global, tmin_global,tmax_global)\n",
    "\n",
    "            # Center about zero flux\n",
    "            view -= np.median(view)\n",
    "\n",
    "            # Shift bins so bin with minimum flux is centered\n",
    "            view = collections.deque(view)\n",
    "            minindex = np.argmin(view)\n",
    "            view.rotate(100 - minindex) # hardcoded assuming nbins_global = 201\n",
    "            globalviews.create_dataset(aps_list[j],(nbins_global,),dtype=float, \\\n",
    "                                       data = np.array(view))\n",
    "            ##############\n",
    "            # Local view\n",
    "            ##############\n",
    "            bin_width_local = duration * 0.16\n",
    "            tmin_local = max(-period / 2, -2 * duration)\n",
    "            tmax_local = min(period / 2, 2* duration)\n",
    "\n",
    "            view  = median_filter.median_filter(folded_time, folded_flux, nbins_local, \\\n",
    "                                                bin_width_local, tmin_local,tmax_local)\n",
    "\n",
    "            # Center about zero flux\n",
    "            view -= np.median(view)\n",
    "\n",
    "            # Shift bins so bin with minimum flux is centered\n",
    "            view = collections.deque(view)\n",
    "            minindex = np.argmin(view)\n",
    "            view.rotate(30 - minindex) # hardcoded assuming nbins_local = 61\n",
    "            datad = np.array(view)\n",
    "            localviews.create_dataset(aps_list[j],(nbins_local,), \\\n",
    "                                       data = datad)\n",
    "            \n",
    "            \n",
    "            \n",
    "        #####################\n",
    "        # 2. Double period light curve, only best ap\n",
    "        #####################\n",
    "#         all_mag  = np.array(h5inputfile[\"LightCurve\"][\"AperturePhotometry\"][best_ap][\"KSPMagnitude\"])\n",
    "\n",
    "#         real_indices = ~np.isnan(all_mag)\n",
    "#         all_mag  = all_mag[real_indices]\n",
    "#         all_time = og_time[real_indices]\n",
    "\n",
    "#         mad           = scale.mad(all_mag)\n",
    "#         valid_indices = np.where(all_mag > np.median(all_mag)-5*mad)\n",
    "\n",
    "#         all_mag       = all_mag[valid_indices]\n",
    "#         all_time      = all_time[valid_indices]\n",
    "\n",
    "#         # Convert mag to flux\n",
    "#         all_flux = 10.**(-(all_mag - np.median(all_mag))/2.5)\n",
    "\n",
    "#         # Phase Fold\n",
    "#         half_period  = period / 4\n",
    "#         folded_time  = np.mod(all_time + (half_period), period) - half_period\n",
    "#         sorted_i     = np.argsort(folded_time)\n",
    "#         folded_time  = folded_time[sorted_i]\n",
    "#         folded_flux  = all_flux[sorted_i]\n",
    "\n",
    "#         # Bin with median values\n",
    "#         bin_width = 2 * period * 1.2 / nbins\n",
    "#         (tmin,tmax) = (-period / 2, period / 2)\n",
    "#         view  = median_filter.median_filter(folded_time, folded_flux, nbins, bin_width, tmin,tmax)\n",
    "\n",
    "#         # Normalize\n",
    "#         view -= np.median(view)\n",
    "# #         view /= np.abs(np.min(view))  # breaks if min(view) is zero...\n",
    "#         globalviews.create_dataset(\"Double\",(nbins_double,),dtype=float, data = np.array(view))\n",
    "\n",
    "        h5outputfile.close()\n",
    "    except:\n",
    "        print(\"Could not read in {}\".format(filepath))\n",
    "        errors.append(lcfiles[i])\n",
    "        h5outputfile.close()\n",
    "        os.remove(os.path.join(outputfolder,lcfiles[i]))\n",
    "print(\"{} errors\".format(len(errors)))"
   ]
  },
  {
   "cell_type": "code",
   "execution_count": 203,
   "metadata": {},
   "outputs": [
    {
     "data": {
      "text/plain": [
       "[<matplotlib.lines.Line2D at 0x2ab321e64b90>]"
      ]
     },
     "execution_count": 203,
     "metadata": {},
     "output_type": "execute_result"
    },
    {
     "data": {
      "image/png": "[encoded data removed]",
      "text/plain": [
       "<Figure size 864x216 with 2 Axes>"
      ]
     },
     "metadata": {
      "needs_background": "light"
     },
     "output_type": "display_data"
    }
   ],
   "source": [
    "test = h5py.File(os.path.join(outputfolder,lcfiles[59]),'r')\n",
    "\n",
    "fig,ax = plt.subplots(ncols = 2,figsize=(12,3))\n",
    "ax[0].plot(test[\"GlobalView\"][\"Aperture_%.3d\" % test[\"bestap\"][0]])\n",
    "ax[1].plot(test[\"LocalView\"][\"Aperture_%.3d\" % test[\"bestap\"][0]])"
   ]
  }
 ],
 "metadata": {
  "kernelspec": {
   "display_name": "Python 3",
   "language": "python",
   "name": "python3"
  },
  "language_info": {
   "codemirror_mode": {
    "name": "ipython",
    "version": 3
   },
   "file_extension": ".py",
   "mimetype": "text/x-python",
   "name": "python",
   "nbconvert_exporter": "python",
   "pygments_lexer": "ipython3",
   "version": "3.7.6"
  }
 },
 "nbformat": 4,
 "nbformat_minor": 4
}
